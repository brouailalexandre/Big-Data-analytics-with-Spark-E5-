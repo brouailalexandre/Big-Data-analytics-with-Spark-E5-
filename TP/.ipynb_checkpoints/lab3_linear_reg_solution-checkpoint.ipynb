{
 "cells": [
  {
   "cell_type": "markdown",
   "metadata": {},
   "source": [
    "![Spark Logo](http://spark-mooc.github.io/web-assets/images/ta_Spark-logo-small.png)\n",
    "\n",
    "<p style=\"font-size:35px;font-weight: bold;color:blue\"> Lab 3 : Songs release year prediction </p>\n",
    "\n",
    " This lab covers a common supervised learning pipeline, using a subset of the [Million Song Dataset](http://labrosa.ee.columbia.edu/millionsong/) from the [UCI Machine Learning Repository](https://archive.ics.uci.edu/ml/datasets/YearPredictionMSD). Our goal is to train a linear regression model to predict the release year of a song given a set of audio features.\n",
    " \n",
    " Note that, for reference, you can look up the details of the relevant Spark methods in [Spark's Python API](https://spark.apache.org/docs/latest/api/python/pyspark.html#pyspark.RDD) and the relevant NumPy methods in the [NumPy Reference](http://docs.scipy.org/doc/numpy/reference/index.html)"
   ]
  },
  {
   "cell_type": "markdown",
   "metadata": {},
   "source": [
    "<p style=\"font-size:21px;font-weight: bold;color:blue\">ESIEE, filière \"Data, réseaux et Internet des Objets\" </p>\n",
    "<p style=\"font-size:15px;font-weight: bold;color:blue\">DRIO-5101A (Automn 2017) -- Instructors: T. Vienne, J.-F. Bercher</p>\n",
    "\n",
    "**Sources**: These labs synthetize and *builds on* labs from several origins: \n",
    "- The series of moocs from Berkeley and Databricks,(Creative Commons licences), namely\n",
    "   - [Introduction to Apache Spark](https://courses.edx.org/courses/course-v1:BerkeleyX+CS105x+1T2016/info)\n",
    "   - [Big data Analysis with Apache Spark](https://courses.edx.org/courses/course-v1:BerkeleyX+CS110x+2T2016/info)\n",
    "   - [Distributed Machine Learning with Apache Spark](https://courses.edx.org/courses/course-v1:BerkeleyX+CS120x+2T2016/info)\n",
    "   - [Introduction to Big Data with Apache Spark](https://courses.edx.org/courses/BerkeleyX/CS100.1x/1T2015/info)\n",
    "   - [Scalable Machine Learning](https://courses.edx.org/courses/BerkeleyX/CS190.1x/1T2015/info)\n",
    "- [Apache Spark & Python (pySpark) tutorials for Big Data Analysis and Machine Learning](https://github.com/jadianes/spark-py-notebooks) (Apache License, Version 2.0)\n",
    "\n",
    "We have kept the labs text in english. This will enable us to reuse them in international sections."
   ]
  },
  {
   "cell_type": "markdown",
   "metadata": {},
   "source": [
    "<p style=\"font-size:20pt; font-weight: bold;color:blue\"> How to complete this lab :</p>\n",
    "\n",
    "This assignment is broken up into sections with bite-sized examples for demonstrating Spark functionality for log processing. For each problem, you should start by thinking about the algorithm that you will use to *efficiently* process the log in a parallel, distributed manner. This means using the various [RDD](http://spark.apache.org/docs/latest/api/python/pyspark.html#pyspark.RDD) operations along with [`lambda` functions](https://docs.python.org/2/tutorial/controlflow.html#lambda-expressions) that are applied at each worker.\n",
    "\n",
    " \n",
    "This assignment consists of 4 parts:\n",
    "\n",
    "- Part 1: Exploring the initial dataset with Spark Core.\n",
    "- Part 2: Create first models with Spark MLlib.\n",
    "- Part 3: Machine learning with Spark ML.\n",
    "- Part 4: Beat the benchmark."
   ]
  },
  {
   "cell_type": "markdown",
   "metadata": {},
   "source": [
    "##  Prerequisites : Spark Context configuration \n",
    "\n",
    "<p>If you can't success to create SparContext and SQLContext objects such as explained on ESIEE icampus :<br/>\n",
    "Remove the following comments and modify the \"spark_path\" variable according to your spark location path.</p>"
   ]
  },
  {
   "cell_type": "code",
   "execution_count": 1,
   "metadata": {},
   "outputs": [],
   "source": [
    "import os\n",
    "import sys\n",
    "spark_path = \"/opt/spark-2.2.0-bin-hadoop2.7/\"\n",
    "python_path = sys.executable\n",
    "os.environ[\"SPARK_HOME\"] = spark_path\n",
    "os.environ[\"HADOOP_HOME\"] = spark_path\n",
    "os.environ[\"PYSPARK_PYTHON\"] = python_path\n",
    "os.environ[\"PYSPARK_DRIVER_PYTHON\"] = python_path\n",
    "sys.path.append(spark_path + \"python/lib/pyspark.zip\")\n",
    "sys.path.append(spark_path + \"python/lib/py4j-0.10.4-src.zip\")\n",
    "\n",
    "from pyspark import SparkConf, SparkContext, SQLContext\n",
    "conf = SparkConf().set(\"master\", \"local[*]\").set(\"spark.app.name\", \"ESIEE\")\n",
    "sc = SparkContext(conf=conf)\n",
    "sqlContext = SQLContext(sc)"
   ]
  },
  {
   "cell_type": "markdown",
   "metadata": {},
   "source": [
    "# Part 1: Exploring the initial dataset with Spark Core"
   ]
  },
  {
   "cell_type": "markdown",
   "metadata": {},
   "source": [
    "## 1.  Load and check the data\n",
    "\n",
    " The raw data is currently stored in text file.  We will start by storing this raw data in as an RDD, with each element of the RDD representing a data point as a comma-delimited string. Each string starts with the label (a year) followed by numerical audio features. Load the data into a two partitions RDD using SparkContext. Then Use the [count method](https://spark.apache.org/docs/latest/api/python/pyspark.html#pyspark.RDD.count) to check how many data points we have.  Finally use the [take method](https://spark.apache.org/docs/latest/api/python/pyspark.html#pyspark.RDD.take) to create and print out a list of the first 5 data points in their initial string format."
   ]
  },
  {
   "cell_type": "code",
   "execution_count": 1,
   "metadata": {},
   "outputs": [],
   "source": [
    "# load testing library\n",
    "from databricks_test_helper import Test\n",
    "import os.path\n",
    "baseDir = os.path.join('..', 'data')\n",
    "inputPath = os.path.join('lab4', 'millionsong.txt')\n",
    "fileName = os.path.join(baseDir, inputPath)"
   ]
  },
  {
   "cell_type": "code",
   "execution_count": 2,
   "metadata": {},
   "outputs": [
    {
     "name": "stdout",
     "output_type": "stream",
     "text": [
      "6724\n",
      "['2001.0,0.884123733793,0.610454259079,0.600498416968,0.474669212493,0.247232680947,0.357306088914,0.344136412234,0.339641227335,0.600858840135,0.425704689024,0.60491501652,0.419193351817', '2001.0,0.854411946129,0.604124786151,0.593634078776,0.495885413963,0.266307830936,0.261472105188,0.506387076327,0.464453565511,0.665798573683,0.542968988766,0.58044428577,0.445219373624', '2001.0,0.908982970575,0.632063159227,0.557428975183,0.498263761394,0.276396052336,0.312809861625,0.448530069406,0.448674249968,0.649791323916,0.489868662682,0.591908113534,0.4500023818', '2001.0,0.842525219898,0.561826888508,0.508715259692,0.443531142139,0.296733836002,0.250213568176,0.488540873206,0.360508747659,0.575435243185,0.361005878554,0.678378718617,0.409036786173', '2001.0,0.909303285534,0.653607720915,0.585580794716,0.473250503005,0.251417011835,0.326976795524,0.40432273022,0.371154511756,0.629401917965,0.482243251755,0.566901413923,0.463373691946']\n"
     ]
    }
   ],
   "source": [
    "# TODO: Replace <FILL IN> with appropriate code\n",
    "\n",
    "numPartitions = 2\n",
    "rawData = sc.textFile(fileName, numPartitions)\n",
    "numPoints = rawData.count()\n",
    "print( numPoints )\n",
    "samplePoints = rawData.take(5)\n",
    "print( samplePoints )"
   ]
  },
  {
   "cell_type": "code",
   "execution_count": 3,
   "metadata": {},
   "outputs": [
    {
     "name": "stdout",
     "output_type": "stream",
     "text": [
      "1 test passed.\n",
      "1 test passed.\n",
      "1 test passed.\n"
     ]
    }
   ],
   "source": [
    "# TEST Load and check the data (1.1)\n",
    "Test.assertEquals(numPoints, 6724, 'incorrect value for numPoints')\n",
    "Test.assertEquals(len(samplePoints), 5, 'incorrect length for samplePoints')\n",
    "Test.assertEquals(rawData.getNumPartitions(), 2, \"Incorrect number of partitions\")"
   ]
  },
  {
   "cell_type": "markdown",
   "metadata": {},
   "source": [
    "## 2. Parsing the rows \n",
    "\n",
    "As you can see using methods `collect`or `take`, the `rawData` RDD only contains string elements that cannot be used for Data exploration or machine learning. Define a function `row_parser` you can use into a `map` method in order to parse the rows. Make sure all defined elements are casted as float elements. Assign the parsed RDD to variable `parsed_rdd`."
   ]
  },
  {
   "cell_type": "code",
   "execution_count": 4,
   "metadata": {},
   "outputs": [
    {
     "name": "stdout",
     "output_type": "stream",
     "text": [
      "[[2001.0, 0.884123733793, 0.610454259079, 0.600498416968, 0.474669212493, 0.247232680947, 0.357306088914, 0.344136412234, 0.339641227335, 0.600858840135, 0.425704689024, 0.60491501652, 0.419193351817], [2001.0, 0.854411946129, 0.604124786151, 0.593634078776, 0.495885413963, 0.266307830936, 0.261472105188, 0.506387076327, 0.464453565511, 0.665798573683, 0.542968988766, 0.58044428577, 0.445219373624], [2001.0, 0.908982970575, 0.632063159227, 0.557428975183, 0.498263761394, 0.276396052336, 0.312809861625, 0.448530069406, 0.448674249968, 0.649791323916, 0.489868662682, 0.591908113534, 0.4500023818], [2001.0, 0.842525219898, 0.561826888508, 0.508715259692, 0.443531142139, 0.296733836002, 0.250213568176, 0.488540873206, 0.360508747659, 0.575435243185, 0.361005878554, 0.678378718617, 0.409036786173], [2001.0, 0.909303285534, 0.653607720915, 0.585580794716, 0.473250503005, 0.251417011835, 0.326976795524, 0.40432273022, 0.371154511756, 0.629401917965, 0.482243251755, 0.566901413923, 0.463373691946]]\n"
     ]
    }
   ],
   "source": [
    "# TODO: Replace <FILL IN> with appropriate code\n",
    "\n",
    "def row_parser(row):\n",
    "    return [float(el) for el in row.split(\",\")]\n",
    "\n",
    "parsed_rdd = rawData.map(lambda row: row_parser(row))\n",
    "parsed_rdd_sample = parsed_rdd.take(5)\n",
    "print(parsed_rdd_sample)"
   ]
  },
  {
   "cell_type": "code",
   "execution_count": 5,
   "metadata": {},
   "outputs": [
    {
     "name": "stdout",
     "output_type": "stream",
     "text": [
      "1 test passed.\n",
      "1 test passed.\n"
     ]
    }
   ],
   "source": [
    "# TEST Parsing the rows (1.2)\n",
    "round_sample_0 = [round(el, 1) for el in parsed_rdd_sample[0]]\n",
    "Test.assertEquals(len(parsed_rdd_sample[0]), 13, 'incorrect number of elements')\n",
    "Test.assertEquals(round_sample_0, [2001.0, 0.9, 0.6, 0.6, 0.5, 0.2, 0.4, 0.3, 0.3, 0.6, 0.4, 0.6, 0.4], 'Incorrect parsing.')"
   ]
  },
  {
   "cell_type": "markdown",
   "metadata": {},
   "source": [
    "## 3. Take a first look to the features\n",
    "\n",
    "Let's take a first look to the dataset features.  First we will look at the raw features for 50 data points by generating a heatmap that visualizes each feature on a grey-scale and shows the variation of each feature across the 50 sample data points.  The features are all between 0 and 1, with values closer to 1 represented via darker shades of grey. To achieve this task, extract the first 50 observations features and assign the result to variable `top_50_features`.\n",
    "\n",
    "_Note_ : More advanced features description will be provided in part 3 using Spark SQL."
   ]
  },
  {
   "cell_type": "code",
   "execution_count": 13,
   "metadata": {},
   "outputs": [],
   "source": [
    "# TODO: Replace <FILL IN> with appropriate code\n",
    "top_50_features =  parsed_rdd.map(lambda row: row[1:]).take(50)"
   ]
  },
  {
   "cell_type": "code",
   "execution_count": 14,
   "metadata": {},
   "outputs": [
    {
     "name": "stdout",
     "output_type": "stream",
     "text": [
      "1 test passed.\n",
      "1 test passed.\n",
      "1 test passed.\n"
     ]
    }
   ],
   "source": [
    "# TEST Take a first look to the featrues (1.3)\n",
    "Test.assertEquals(len(top_50_features), 50, \"incorrect number of rows\")\n",
    "Test.assertEquals([round(el, 2) for el in top_50_features[0]], [0.88, 0.61, 0.6, 0.47, 0.25, 0.36, 0.34, 0.34, 0.6, 0.43, 0.6, 0.42], \"Values don't match.\")\n",
    "Test.assertEquals(list(set([len(el) for el in top_50_features])), [12], \"incorrect number of features\")"
   ]
  },
  {
   "cell_type": "code",
   "execution_count": 15,
   "metadata": {},
   "outputs": [
    {
     "data": {
      "image/png": "[encoded data removed]",
      "text/plain": [
       "<matplotlib.figure.Figure at 0x7fb7b297c518>"
      ]
     },
     "metadata": {},
     "output_type": "display_data"
    }
   ],
   "source": [
    "import numpy as np\n",
    "import matplotlib.pyplot as plt\n",
    "import matplotlib.cm as cm\n",
    "%matplotlib inline\n",
    "\n",
    "def preparePlot(xticks, yticks, figsize=(10.5, 6), hideLabels=False, gridColor='#999999',\n",
    "                gridWidth=1.0):\n",
    "    \"\"\"Template for generating the plot layout.\"\"\"\n",
    "    plt.close()\n",
    "    fig, ax = plt.subplots(figsize=figsize, facecolor='white', edgecolor='white')\n",
    "    ax.axes.tick_params(labelcolor='#999999', labelsize='10')\n",
    "    for axis, ticks in [(ax.get_xaxis(), xticks), (ax.get_yaxis(), yticks)]:\n",
    "        axis.set_ticks_position('none')\n",
    "        axis.set_ticks(ticks)\n",
    "        axis.label.set_color('#999999')\n",
    "        if hideLabels: axis.set_ticklabels([])\n",
    "    plt.grid(color=gridColor, linewidth=gridWidth, linestyle='-')\n",
    "    map(lambda position: ax.spines[position].set_visible(False), ['bottom', 'top', 'left', 'right'])\n",
    "    return fig, ax\n",
    "\n",
    "# generate layout and plot\n",
    "fig, ax = preparePlot(np.arange(.5, 11, 1), np.arange(.5, 49, 1), figsize=(8,7), hideLabels=True,\n",
    "                      gridColor='#eeeeee', gridWidth=1.1)\n",
    "image = plt.imshow(top_50_features,interpolation='nearest', aspect='auto', cmap=cm.Greys)\n",
    "for x, y, s in zip(np.arange(-.125, 12, 1), np.repeat(-.75, 12), [str(x) for x in range(12)]):\n",
    "    plt.text(x, y, s, color='#999999', size='10')\n",
    "plt.text(4.7, -3, 'Feature', color='#999999', size='11'), ax.set_ylabel('Observation')\n",
    "pass"
   ]
  },
  {
   "cell_type": "markdown",
   "metadata": {},
   "source": [
    "## 4. Describe year release label with Spark Core\n",
    "\n",
    "Get more information on the `year release` variable to predict. Extract the release years, compute the `min`, the `max`, the `mean` and plot a resulting histogram. Don't forget to `reduceByKey` before collect and assign the results to the following variables."
   ]
  },
  {
   "cell_type": "code",
   "execution_count": 16,
   "metadata": {},
   "outputs": [],
   "source": [
    "# TODO: Replace <FILL IN> with appropriate code\n",
    "import matplotlib.pyplot as plt\n",
    "year_release_rdd = parsed_rdd.map(lambda row: row[0])\n",
    "year_release_min = year_release_rdd.min()\n",
    "year_release_max = year_release_rdd.max()\n",
    "year_release_mean = year_release_rdd.mean()\n",
    "year_release_count = year_release_rdd.map(lambda el: (el, 1)).reduceByKey(lambda a, b: a + b).collect()\n",
    "year_release_keys = [el[0] for el in year_release_count]\n",
    "year_release_values = [el[1] for el in year_release_count]"
   ]
  },
  {
   "cell_type": "code",
   "execution_count": 17,
   "metadata": {},
   "outputs": [
    {
     "name": "stdout",
     "output_type": "stream",
     "text": [
      "1 test passed.\n",
      "1 test passed.\n",
      "1 test passed.\n",
      "1 test passed.\n",
      "1 test passed.\n"
     ]
    }
   ],
   "source": [
    "# TEST Describe year release (1.4)\n",
    "Test.assertEquals(year_release_min, 1922.0, 'incorrect minimum')\n",
    "Test.assertEquals(year_release_max, 2011.0, 'incorrect maximum')\n",
    "Test.assertEquals(round(year_release_mean, 1), 1975.8, 'incorrect mean')\n",
    "Test.assertEquals(year_release_keys, [1922.0, 1924.0, 1926.0, 1928.0, 1930.0, 1932.0, 1934.0, 1936.0, 1938.0, 1940.0, 1942.0, 1944.0, 1946.0, 1948.0, 1950.0, 1952.0, 1954.0, 1956.0, 1958.0, 1960.0, 1962.0, 1964.0, 1966.0, 1968.0, 1970.0, 1972.0, 1974.0, 1976.0, 1978.0, 1980.0, 1982.0, 1984.0, 1986.0, 1988.0, 1990.0, 1992.0, 1994.0, 1996.0, 1998.0, 2000.0, 2002.0, 2004.0, 2006.0, 2008.0, 2010.0, 1925.0, 1927.0, 1929.0, 1931.0, 1933.0, 1935.0, 1937.0, 1939.0, 1941.0, 1943.0, 1945.0, 1947.0, 1949.0, 1951.0, 1953.0, 1955.0, 1957.0, 1959.0, 1961.0, 1963.0, 1965.0, 1967.0, 1969.0, 1971.0, 1973.0, 1975.0, 1977.0, 1979.0, 1981.0, 1983.0, 1985.0, 1987.0, 1989.0, 1991.0, 1993.0, 1995.0, 1997.0, 1999.0, 2001.0, 2003.0, 2005.0, 2007.0, 2009.0, 2011.0], 'incorrect bar plot x-label')\n",
    "Test.assertEquals(year_release_values, [6, 5, 19, 48, 38, 11, 28, 22, 19, 14, 21, 14, 29, 38, 58, 65, 100, 100, 100, 100, 100, 100, 100, 100, 100, 100, 100, 100, 100, 100, 100, 100, 100, 100, 100, 100, 100, 100, 100, 100, 100, 100, 100, 100, 100, 7, 40, 79, 31, 6, 24, 25, 35, 31, 13, 27, 55, 53, 62, 100, 100, 100, 100, 100, 100, 100, 100, 100, 100, 100, 100, 100, 100, 100, 100, 100, 100, 100, 100, 100, 100, 100, 100, 100, 100, 100, 100, 100, 1], 'incorrect bar plot y-label')"
   ]
  },
  {
   "cell_type": "code",
   "execution_count": 18,
   "metadata": {},
   "outputs": [
    {
     "data": {
      "image/png": "[encoded data removed]",
      "text/plain": [
       "<matplotlib.figure.Figure at 0x7fb7a7ccd0b8>"
      ]
     },
     "metadata": {},
     "output_type": "display_data"
    }
   ],
   "source": [
    "# plotting the histogram :\n",
    "fig = plt.figure(figsize=[6, 5])\n",
    "plt.bar(year_release_keys, year_release_values)\n",
    "plt.show()"
   ]
  },
  {
   "cell_type": "markdown",
   "metadata": {},
   "source": [
    "## 5. Shift the labels\n",
    "\n",
    "As we just saw, the labels are years in the 1900s and 2000s.  In learning problems, it is often natural to shift labels such that they start from zero.  Starting with `parsed_rdd`, create a new RDD into which the labels are shifted such that smallest label equals zero."
   ]
  },
  {
   "cell_type": "code",
   "execution_count": 19,
   "metadata": {},
   "outputs": [],
   "source": [
    "# TODO: Replace <FILL IN> with appropriate code\n",
    "parsed_rdd_shift = parsed_rdd.map(lambda row: [row[0] - year_release_min] +  row[1:])\n",
    "parsed_rdd_shift = parsed_rdd_shift.cache()"
   ]
  },
  {
   "cell_type": "code",
   "execution_count": 22,
   "metadata": {},
   "outputs": [
    {
     "name": "stdout",
     "output_type": "stream",
     "text": [
      "1 test passed.\n",
      "1 test passed.\n",
      "1 test passed.\n"
     ]
    }
   ],
   "source": [
    "# TEST Shift labels (1.5)\n",
    "import numpy as np\n",
    "old_features = parsed_rdd.map(lambda row: row[1:]).take(5)\n",
    "new_features = parsed_rdd_shift.map(lambda row: row[1:]).take(5)\n",
    "min_year_new = parsed_rdd_shift.map(lambda row: row[0]).min()\n",
    "max_year_new = parsed_rdd_shift.map(lambda row: row[0]).max()\n",
    "Test.assertTrue(np.allclose(old_features, new_features), 'new features do not match old features')\n",
    "Test.assertEquals(min_year_new, 0.0, 'incorrect min year in shifted data')\n",
    "Test.assertEquals(max_year_new, 89.0, 'incorrect max year in shifted data')"
   ]
  },
  {
   "cell_type": "markdown",
   "metadata": {},
   "source": [
    "# Part 2: Create first models with Spark MLlib"
   ]
  },
  {
   "cell_type": "markdown",
   "metadata": {},
   "source": [
    "## 1. Create LabeledPoints objects : \n",
    "\n",
    "In supervised machine learning with Spark MLlib, labeled training instances are stored using the [LabeledPoint](https://spark.apache.org/docs/latest/api/python/pyspark.mllib.html#pyspark.mllib.regression.LabeledPoint) object.  Write the parsePoint function that takes as input a raw observations and returns a `LabeledPoint`.  Use this function with a `map` and return the result to variable `ml_rdd`.  Then print out the features and label for the first observation, using the `LabeledPoint.features` and `LabeledPoint.label` attributes. "
   ]
  },
  {
   "cell_type": "code",
   "execution_count": 23,
   "metadata": {},
   "outputs": [
    {
     "name": "stdout",
     "output_type": "stream",
     "text": [
      "First row label : 79.0\n",
      "First row features : [0.884123733793,0.610454259079,0.600498416968,0.474669212493,0.247232680947,0.357306088914,0.344136412234,0.339641227335,0.600858840135,0.425704689024,0.60491501652,0.419193351817]\n",
      "Number of features : 12\n"
     ]
    }
   ],
   "source": [
    "# TODO: Replace <FILL IN> with appropriate code\n",
    "# Here is a sample raw data point:\n",
    "# '2001.0,0.884,0.610,0.600,0.474,0.247,0.357,0.344,0.33,0.600,0.425,0.60,0.419'\n",
    "# In this raw data point, 2001.0 is the label, and the remaining values are features\n",
    "from pyspark.mllib.regression import LabeledPoint\n",
    "import numpy as np\n",
    "\n",
    "def parsePoint(line):\n",
    "    \"\"\"Converts a RDD line into a `LabeledPoint` using .map() method.\n",
    "\n",
    "    Returns:\n",
    "        LabeledPoint: The line is converted into a `LabeledPoint`, which consists of a label and\n",
    "            features.\n",
    "    \"\"\"\n",
    "    return LabeledPoint(line[0], line[1:])\n",
    "\n",
    "ml_rdd = parsed_rdd_shift.map(lambda line: parsePoint(line))\n",
    "parsedSamplePoints = ml_rdd.take(5)\n",
    "firstPointFeatures = parsedSamplePoints[0].features\n",
    "firstPointLabel =  parsedSamplePoints[0].label\n",
    "print(\"First row label : %s\" % firstPointLabel)\n",
    "print(\"First row features : %s\" % firstPointFeatures)\n",
    "print(\"Number of features : %s\" % len(firstPointFeatures))"
   ]
  },
  {
   "cell_type": "code",
   "execution_count": 24,
   "metadata": {},
   "outputs": [
    {
     "name": "stdout",
     "output_type": "stream",
     "text": [
      "1 test passed.\n",
      "1 test passed.\n",
      "1 test passed.\n",
      "1 test passed.\n"
     ]
    }
   ],
   "source": [
    "# TEST Create LabeledPoints objects (2.1)\n",
    "Test.assertTrue(isinstance(firstPointLabel, float), 'label must be a float')\n",
    "expectedX0 = [0.8841,0.6105,0.6005,0.4747,0.2472,0.3573,0.3441,0.3396,0.6009,0.4257,0.6049,0.4192]\n",
    "Test.assertTrue(np.allclose(expectedX0, firstPointFeatures, 1e-4, 1e-4),\n",
    "                'incorrect features for firstPointFeatures')\n",
    "Test.assertTrue(np.allclose(79.0, firstPointLabel), 'incorrect label for firstPointLabel')\n",
    "Test.assertTrue(len(firstPointFeatures) == 12, 'incorrect number of features')"
   ]
  },
  {
   "cell_type": "markdown",
   "metadata": {},
   "source": [
    "## 2. Training, validation, and test sets\n",
    "\n",
    "We're almost done parsing our dataset, and our final task involves split it into training, validation and test sets. Use the [randomSplit method](https://spark.apache.org/docs/latest/api/python/pyspark.html#pyspark.RDD.randomSplit) with the specified weights and seed to create RDDs storing each of these datasets. Next, cache each of these RDDs, as we will be accessing them multiple times in the remainder of this lab. Finally, compute the size of each dataset and verify that the sum of their sizes equals the value computed in Part (1a)."
   ]
  },
  {
   "cell_type": "code",
   "execution_count": 25,
   "metadata": {},
   "outputs": [
    {
     "name": "stdout",
     "output_type": "stream",
     "text": [
      "training rows : 5359 \n",
      "validation rows : 678 \n",
      "test rows : 687 \n",
      "total rows : 6724 \n",
      "Dataset rows before split : 6724\n"
     ]
    }
   ],
   "source": [
    "# TODO: Replace <FILL IN> with appropriate code\n",
    "weights = [.8, .1, .1]\n",
    "seed = 42\n",
    "train_rdd, val_rdd, test_rdd = ml_rdd.randomSplit(weights,seed)\n",
    "train_rdd.cache() # cache the rdd\n",
    "val_rdd.cache() # cache the rdd\n",
    "test_rdd.cache() # cache the rdd\n",
    "n_train = train_rdd.count()\n",
    "n_val = val_rdd.count()\n",
    "n_test = test_rdd.count()\n",
    "\n",
    "print(\"training rows : %s \"% n_train)\n",
    "print(\"validation rows : %s \"% n_val)\n",
    "print(\"test rows : %s \" % n_test)\n",
    "print(\"total rows : %s \" % str(n_train + n_val + n_test))\n",
    "print(\"Dataset rows before split : %s\" % ml_rdd.count())"
   ]
  },
  {
   "cell_type": "code",
   "execution_count": 26,
   "metadata": {},
   "outputs": [
    {
     "name": "stdout",
     "output_type": "stream",
     "text": [
      "1 test passed.\n",
      "1 test passed.\n",
      "1 test passed.\n",
      "1 test passed.\n",
      "1 test passed.\n",
      "1 test passed.\n",
      "1 test passed.\n",
      "1 test passed.\n",
      "1 test passed.\n"
     ]
    }
   ],
   "source": [
    "# TEST Training, validation, and test sets (2.2)\n",
    "Test.assertEquals(train_rdd.getNumPartitions(), numPartitions,\n",
    "                  'train rdd has wrong number of partitions')\n",
    "Test.assertEquals(val_rdd.getNumPartitions(), numPartitions,\n",
    "                  'val rdd has wrong number of partitions')\n",
    "Test.assertEquals(test_rdd.getNumPartitions(), numPartitions,\n",
    "                  'test rdd has wrong number of partitions')\n",
    "Test.assertEquals(len(train_rdd.take(1)[0].features), 12,\n",
    "                  'train rdd has wrong number of features')\n",
    "sumFeatTwo = (train_rdd\n",
    "              .map(lambda lp: lp.features[2])\n",
    "              .sum())\n",
    "sumFeatThree = (val_rdd\n",
    "                .map(lambda lp: lp.features[3])\n",
    "                .reduce(lambda x, y: x + y))\n",
    "sumFeatFour = (test_rdd\n",
    "               .map(lambda lp: lp.features[4])\n",
    "               .reduce(lambda x, y: x + y))\n",
    "Test.assertTrue(np.allclose([sumFeatTwo, sumFeatThree, sumFeatFour],\n",
    "                            2526.87757656, 297.340394298, 184.235876654),\n",
    "                'parsed Train, Val, Test data has unexpected values')\n",
    "Test.assertTrue(n_train + n_val + n_test == 6724, 'unexpected Train, Val, Test data set size')\n",
    "Test.assertEquals(n_train, 5359, 'unexpected value for n_train')\n",
    "Test.assertEquals(n_val, 678, 'unexpected value for n_val')\n",
    "Test.assertEquals(n_test, 687, 'unexpected value for n_test')"
   ]
  },
  {
   "cell_type": "markdown",
   "metadata": {},
   "source": [
    "## 3. Create a validation metrics (Root mean squared error)\n",
    " \n",
    " \n",
    " We naturally would like to see how well our following models will perform.  We will use root mean squared error ([RMSE](http://en.wikipedia.org/wiki/Root-mean-square_deviation)) for evaluation purposes.  Implement a function to compute RMSE given an RDD of (label, prediction) tuples, and test out this function on an example.\n",
    " \n",
    "_Note_ : Note that spark Mllib pre-implemented validation metrics also exist : [Metrics](https://spark.apache.org/docs/latest/api/python/pyspark.mllib.html#pyspark.mllib.evaluation.RegressionMetrics). However, in order to practice with Spark, we will code our own RMSE function. "
   ]
  },
  {
   "cell_type": "code",
   "execution_count": 27,
   "metadata": {},
   "outputs": [
    {
     "name": "stdout",
     "output_type": "stream",
     "text": [
      "1.29099444874\n"
     ]
    }
   ],
   "source": [
    "# TODO: Replace <FILL IN> with appropriate code\n",
    "def squaredError(label, prediction):\n",
    "    \"\"\"Calculates the the squared error for a single prediction.\n",
    "\n",
    "    Args:\n",
    "        label (float): The correct value for this observation.\n",
    "        prediction (float): The predicted value for this observation.\n",
    "\n",
    "    Returns:\n",
    "        float: The difference between the `label` and `prediction` squared.\n",
    "    \"\"\"\n",
    "    return (label-prediction)**2\n",
    "\n",
    "def calcRMSE(labelsAndPreds):\n",
    "    \"\"\"Calculates the root mean squared error for an `RDD` of (label, prediction) tuples.\n",
    "\n",
    "    Args:\n",
    "        labelsAndPred (RDD of (float, float)): An `RDD` consisting of (label, prediction) tuples.\n",
    "\n",
    "    Returns:\n",
    "        float: The square root of the mean of the squared errors.\n",
    "    \"\"\"\n",
    "    return np.sqrt(labelsAndPreds.map(lambda v: squaredError(v[0],v[1])).mean())\n",
    "\n",
    "labelsAndPreds = sc.parallelize([(3., 1.), (1., 2.), (2., 2.)])\n",
    "# RMSE = sqrt[((3-1)^2 + (1-2)^2 + (2-2)^2) / 3] = 1.291\n",
    "exampleRMSE = calcRMSE(labelsAndPreds)\n",
    "print( exampleRMSE )"
   ]
  },
  {
   "cell_type": "code",
   "execution_count": 28,
   "metadata": {},
   "outputs": [
    {
     "name": "stdout",
     "output_type": "stream",
     "text": [
      "1 test passed.\n",
      "1 test passed.\n"
     ]
    }
   ],
   "source": [
    "# TEST Root mean squared error (2.3)\n",
    "Test.assertTrue(np.allclose(squaredError(3, 1), 4.), 'incorrect definition of squaredError')\n",
    "Test.assertTrue(np.allclose(exampleRMSE, 1.29099444874), 'incorrect value for exampleRMSE')"
   ]
  },
  {
   "cell_type": "markdown",
   "metadata": {},
   "source": [
    "## 4. Create a baseline dirty model : average label \n",
    "\n",
    "A very simple yet natural baseline model is one where we always make the same prediction independent of the given data point, using the average label in the training set as the constant prediction value.  Compute this value, which is the average (shifted) song year for the training set.  Then let's calculate the training, validation and test RMSE of our baseline model. To do this, create RDDs of (label, prediction) tuples for each dataset, and then call calcRMSE. Note that each RMSE can be interpreted as the average prediction error for the given dataset (in terms of number of years)."
   ]
  },
  {
   "cell_type": "code",
   "execution_count": 29,
   "metadata": {},
   "outputs": [
    {
     "name": "stdout",
     "output_type": "stream",
     "text": [
      "Average train year: 53.67923119985066 \n",
      "Baseline Train RMSE = 21.506\n",
      "Baseline Validation RMSE = 20.877\n",
      "Baseline Test RMSE = 21.260\n"
     ]
    }
   ],
   "source": [
    "# TODO: Replace <FILL IN> with appropriate code\n",
    "average_train_year = train_rdd.map(lambda lp: lp.label).mean()\n",
    "print(\"Average train year: %s \" % average_train_year)\n",
    "\n",
    "train_labels_and_preds = train_rdd.map(lambda lp: (lp.label, average_train_year))\n",
    "rmse_train = calcRMSE(train_labels_and_preds)\n",
    "\n",
    "val_labels_and_preds = val_rdd.map(lambda lp: (lp.label, average_train_year))\n",
    "rmse_val = calcRMSE(val_labels_and_preds)\n",
    "\n",
    "test_labels_and_preds = test_rdd.map(lambda lp: (lp.label, average_train_year))\n",
    "rmse_test = calcRMSE(test_labels_and_preds)\n",
    "\n",
    "print( 'Baseline Train RMSE = {0:.3f}'.format(rmse_train))\n",
    "print( 'Baseline Validation RMSE = {0:.3f}'.format(rmse_val))\n",
    "print( 'Baseline Test RMSE = {0:.3f}'.format(rmse_test))"
   ]
  },
  {
   "cell_type": "code",
   "execution_count": 30,
   "metadata": {},
   "outputs": [
    {
     "name": "stdout",
     "output_type": "stream",
     "text": [
      "1 test passed.\n",
      "1 test passed.\n"
     ]
    }
   ],
   "source": [
    "# TEST Average label (2.4)\n",
    "Test.assertTrue(np.allclose(average_train_year, 53.67923119985066), 'incorrect value for averageTrainYear')\n",
    "Test.assertTrue(np.allclose([rmse_train, rmse_val, rmse_test],\n",
    "                            [21.506125957738682, 20.877445428452468, 21.260493955081916]), 'incorrect RMSE value')"
   ]
  },
  {
   "cell_type": "markdown",
   "metadata": {},
   "source": [
    "##  5. Visualizing our predictions performs\n",
    "\n",
    "We will visualize predictions on the validation dataset. The scatter plots below visualize tuples storing i) the predicted value and ii) true label.  The first scatter plot represents the ideal situation where the predicted value exactly equals the true label, while the second plot uses the baseline predictor (i.e., `averageTrainYear`) for all predicted values.  Further note that the points in the scatter plots are color-coded, ranging from light yellow when the true and predicted values are equal to bright red when they drastically differ."
   ]
  },
  {
   "cell_type": "code",
   "execution_count": 31,
   "metadata": {},
   "outputs": [
    {
     "data": {
      "image/png": "[encoded data removed]",
      "text/plain": [
       "<matplotlib.figure.Figure at 0x7fb7a794e6a0>"
      ]
     },
     "metadata": {},
     "output_type": "display_data"
    },
    {
     "data": {
      "image/png": "[encoded data removed]",
      "text/plain": [
       "<matplotlib.figure.Figure at 0x7fb7a794e390>"
      ]
     },
     "metadata": {},
     "output_type": "display_data"
    }
   ],
   "source": [
    "from matplotlib.colors import ListedColormap, Normalize\n",
    "from matplotlib.cm import get_cmap\n",
    "cmap = get_cmap('YlOrRd')\n",
    "norm = Normalize()\n",
    "\n",
    "actual = np.asarray(val_rdd\n",
    "                    .map(lambda lp: lp.label)\n",
    "                    .collect())\n",
    "error = np.asarray(val_rdd\n",
    "                   .map(lambda lp: (lp.label, lp.label))\n",
    "                   .map(lambda v: squaredError(v[0], v[1]))\n",
    "                   .collect())\n",
    "clrs = cmap(np.asarray(norm(error)))[:,0:3]\n",
    "\n",
    "fig, ax = preparePlot(np.arange(0, 100, 20), np.arange(0, 100, 20), figsize=(8, 4))\n",
    "plt.scatter(actual, actual, s=14**2, c=clrs, edgecolors='#888888', alpha=0.75, linewidths=0.5)\n",
    "ax.set_xlabel('Predicted'), ax.set_ylabel('Actual')\n",
    "plt.title(\"Ideal Situation\")\n",
    "plt.show()\n",
    "pass\n",
    "\n",
    "predictions = np.asarray(val_rdd\n",
    "                         .map(lambda lp: average_train_year)\n",
    "                         .collect())\n",
    "error = np.asarray(val_rdd\n",
    "                   .map(lambda lp: (lp.label, average_train_year))\n",
    "                   .map(lambda v: squaredError(v[0], v[1]))\n",
    "                   .collect())\n",
    "norm = Normalize()\n",
    "clrs = cmap(np.asarray(norm(error)))[:,0:3]\n",
    "\n",
    "fig, ax = preparePlot(np.arange(53.0, 55.0, 0.5), np.arange(0, 100, 20), figsize=(8, 4))\n",
    "ax.set_xlim(53, 55)\n",
    "plt.scatter(predictions, actual, s=14**2, c=clrs, edgecolors='#888888', alpha=0.75, linewidths=0.3)\n",
    "ax.set_xlabel('Predicted'), ax.set_ylabel('Actual')\n",
    "plt.title(\"Current Situation\")\n",
    "plt.show()"
   ]
  },
  {
   "cell_type": "markdown",
   "metadata": {},
   "source": [
    "## 5.  Train our first MLlib model :  linear regression\n",
    " \n",
    "Let's train our first machine learning algorithm with MLlib. MLlib's [LinearRegressionWithSGD](https://spark.apache.org/docs/latest/api/python/pyspark.mllib.html#pyspark.mllib.regression.LinearRegressionWithSGD)  implements a linar regression algorithm with various additional functionality, including stochastic gradient approximation and L1 or L2 regularization.  First use LinearRegressionWithSGD to train a model with L2 regularization and with an intercept.  This method returns a [LinearRegressionModel](https://spark.apache.org/docs/latest/api/python/pyspark.mllib.html#pyspark.mllib.regression.LinearRegressionModel).  Next, use the model's [weights](http://spark.apache.org/docs/latest/api/python/pyspark.mllib.html#pyspark.mllib.regression.LinearRegressionModel.weights) and [intercept](http://spark.apache.org/docs/latest/api/python/pyspark.mllib.html#pyspark.mllib.regression.LinearRegressionModel.intercept) attributes to print out the model's parameters."
   ]
  },
  {
   "cell_type": "code",
   "execution_count": 32,
   "metadata": {},
   "outputs": [],
   "source": [
    "from pyspark.mllib.regression import LinearRegressionWithSGD\n",
    "# Values to use when training the linear regression model\n",
    "numIters = 500  # iterations\n",
    "alpha = 1.0  # step\n",
    "miniBatchFrac = 1.0  # miniBatchFraction\n",
    "reg = 1e-1  # regParam\n",
    "regType = 'l2'  # regType\n",
    "useIntercept = True  # intercept"
   ]
  },
  {
   "cell_type": "code",
   "execution_count": 33,
   "metadata": {},
   "outputs": [
    {
     "name": "stderr",
     "output_type": "stream",
     "text": [
      "/opt/spark-2.2.0-bin-hadoop2.7/python/pyspark/mllib/regression.py:281: UserWarning: Deprecated in 2.0.0. Use ml.regression.LinearRegression.\n",
      "  warnings.warn(\"Deprecated in 2.0.0. Use ml.regression.LinearRegression.\")\n"
     ]
    },
    {
     "name": "stdout",
     "output_type": "stream",
     "text": [
      "[15.9694010246,13.9897244172,0.669349383773,6.24618402989,4.00932179503,-2.30176663131,10.478805422,3.06385145385,7.14414111075,4.49826819526,7.87702565069,3.00732146613] 13.332056210482524\n"
     ]
    }
   ],
   "source": [
    "# TODO: Replace <FILL IN> with appropriate code\n",
    "firstModel = LinearRegressionWithSGD.train(train_rdd, iterations=numIters, \n",
    "                step=alpha, miniBatchFraction=miniBatchFrac, \n",
    "                initialWeights=None, regParam=reg, \n",
    "                regType=regType, intercept=useIntercept\n",
    "             )\n",
    "\n",
    "# weightsLR1 stores the model weights; interceptLR1 stores the model intercept\n",
    "weightsLR1 = firstModel.weights\n",
    "interceptLR1 = firstModel.intercept\n",
    "print( weightsLR1, interceptLR1 )"
   ]
  },
  {
   "cell_type": "code",
   "execution_count": 34,
   "metadata": {},
   "outputs": [
    {
     "name": "stdout",
     "output_type": "stream",
     "text": [
      "1 test passed.\n",
      "1 test passed.\n"
     ]
    }
   ],
   "source": [
    "# TEST LinearRegressionWithSGD (4a)\n",
    "expectedIntercept = 13.33205621048\n",
    "expectedWeights = [15.9694010246,13.9897244172,0.669349383773,6.24618402989,4.00932179503,-2.30176663131,10.478805422,3.06385145385,7.14414111075,4.49826819526,7.87702565069,3.00732146613]\n",
    "Test.assertTrue(np.allclose(interceptLR1, expectedIntercept), 'incorrect value for interceptLR1')\n",
    "Test.assertTrue(np.allclose(weightsLR1, expectedWeights), 'incorrect value for weightsLR1')"
   ]
  },
  {
   "cell_type": "markdown",
   "metadata": {},
   "source": [
    "## 6. Make predictions on train, val and test datasets\n",
    "\n",
    "Now use the [LinearRegressionModel.predict()](http://spark.apache.org/docs/latest/api/python/pyspark.mllib.html#pyspark.mllib.regression.LinearRegressionModel.predict) and `map` to make prediction on train, val and test dataset.  Pass the `features` from a `LabeledPoint` into the `predict()` method. Then, compute the new RMSE scores using the previously defined function `calcRMSE`."
   ]
  },
  {
   "cell_type": "code",
   "execution_count": 35,
   "metadata": {},
   "outputs": [
    {
     "name": "stdout",
     "output_type": "stream",
     "text": [
      "first model Train RMSE = 19.592\n",
      "first model Validation RMSE = 19.025\n",
      "first model Test RMSE = 19.455\n"
     ]
    }
   ],
   "source": [
    "# TODO: Replace <FILL IN> with appropriate code\n",
    "train_labels_and_preds = train_rdd.map(lambda lp: (lp.label, firstModel.predict(lp.features)))\n",
    "rmse_train = calcRMSE(train_labels_and_preds)\n",
    "\n",
    "val_labels_and_preds = val_rdd.map(lambda lp: (lp.label, firstModel.predict(lp.features)))\n",
    "rmse_val = calcRMSE(val_labels_and_preds)\n",
    "\n",
    "test_labels_and_preds = test_rdd.map(lambda lp: (lp.label, firstModel.predict(lp.features)))\n",
    "rmse_test = calcRMSE(test_labels_and_preds)\n",
    "\n",
    "print('first model Train RMSE = {0:.3f}'.format(rmse_train))\n",
    "print('first model Validation RMSE = {0:.3f}'.format(rmse_val))\n",
    "print('first model Test RMSE = {0:.3f}'.format(rmse_test))"
   ]
  },
  {
   "cell_type": "code",
   "execution_count": 36,
   "metadata": {},
   "outputs": [
    {
     "name": "stdout",
     "output_type": "stream",
     "text": [
      "1 test passed.\n",
      "1 test passed.\n",
      "1 test passed.\n"
     ]
    }
   ],
   "source": [
    "# TEST Predict (2.6)\n",
    "Test.assertEquals(round(rmse_train, 3), 19.592, \"Incorrect train rmse\")\n",
    "Test.assertEquals(round(rmse_val, 3), 19.025, \"Incorrect val rmse\")\n",
    "Test.assertEquals(round(rmse_test, 3), 19.455, \"Incorrect test rmse\")"
   ]
  },
  {
   "cell_type": "markdown",
   "metadata": {},
   "source": [
    "## 7. Grid search\n",
    "\n",
    "We're already outperforming the baseline on the validation set by almost 2 years on average, but let's see if we can do better. Perform grid search to find a good regularization parameter.  Try `regParam` values `1e-10`, `1e-5`, and `1` : \n",
    "\n",
    "- Assign the best RMSE score to variable `bestRMSE`.\n",
    "- Assign the bestmodel to variable `bestModel`.\n",
    "- ASsign the best regularization to variable `bestRegParam`."
   ]
  },
  {
   "cell_type": "code",
   "execution_count": 37,
   "metadata": {},
   "outputs": [
    {
     "name": "stderr",
     "output_type": "stream",
     "text": [
      "/opt/spark-2.2.0-bin-hadoop2.7/python/pyspark/mllib/regression.py:281: UserWarning: Deprecated in 2.0.0. Use ml.regression.LinearRegression.\n",
      "  warnings.warn(\"Deprecated in 2.0.0. Use ml.regression.LinearRegression.\")\n"
     ]
    },
    {
     "name": "stdout",
     "output_type": "stream",
     "text": [
      "16.6813542516\n",
      "16.6816816062\n",
      "23.40950259\n",
      "Best model validaton RMSE : 16.6813542516\n"
     ]
    }
   ],
   "source": [
    "# TODO: Replace <FILL IN> with appropriate code\n",
    "bestRMSE = 10000\n",
    "bestRegParam = reg\n",
    "bestModel = firstModel\n",
    "\n",
    "numIters = 500\n",
    "alpha = 1.0\n",
    "miniBatchFrac = 1.0\n",
    "for reg in [1e-10, 1e-5, 1]:\n",
    "    model = LinearRegressionWithSGD.train(train_rdd, numIters, alpha,\n",
    "                                          miniBatchFrac, regParam=reg,\n",
    "                                          regType='l2', intercept=True)\n",
    "    labelsAndPreds = val_rdd.map(lambda lp: (lp.label, model.predict(lp.features)))\n",
    "    rmseValGrid = calcRMSE(labelsAndPreds)\n",
    "    print(rmseValGrid)\n",
    "\n",
    "    if rmseValGrid < bestRMSE:\n",
    "        bestRMSE = rmseValGrid\n",
    "        bestRegParam = reg\n",
    "        bestModel = model\n",
    "rmseValLRGrid = bestRMSE\n",
    "\n",
    "print(\"Best model validaton RMSE : %s\" % bestRMSE)"
   ]
  },
  {
   "cell_type": "code",
   "execution_count": 38,
   "metadata": {},
   "outputs": [
    {
     "name": "stdout",
     "output_type": "stream",
     "text": [
      "1 test passed.\n",
      "1 test passed.\n"
     ]
    }
   ],
   "source": [
    "# TEST Grid search (2.7)\n",
    "Test.assertTrue(np.allclose(16.6813542516, bestRMSE), 'incorrect value for rmseValLRGrid')\n",
    "Test.assertEquals(bestRegParam, 1e-10, \"incorrect best reg parameter\")"
   ]
  },
  {
   "cell_type": "markdown",
   "metadata": {},
   "source": [
    "## 8. Best model's predictions Visualization\n",
    "\n",
    "Next, we create a visualization similar to the previous one using the predictions from the best model from Part on the validation dataset.  Specifically, we create a color-coded scatter plot visualizing tuples storing i) the predicted value from this model and ii) true label."
   ]
  },
  {
   "cell_type": "code",
   "execution_count": 39,
   "metadata": {},
   "outputs": [
    {
     "data": {
      "image/png": "[encoded data removed]",
      "text/plain": [
       "<matplotlib.figure.Figure at 0x7fb7a77cc828>"
      ]
     },
     "metadata": {},
     "output_type": "display_data"
    }
   ],
   "source": [
    "predictions = np.asarray(val_rdd\n",
    "                         .map(lambda lp: bestModel.predict(lp.features))\n",
    "                         .collect())\n",
    "actual = np.asarray(val_rdd\n",
    "                    .map(lambda lp: lp.label)\n",
    "                    .collect())\n",
    "error = np.asarray(val_rdd\n",
    "                   .map(lambda lp: (lp.label, bestModel.predict(lp.features)))\n",
    "                   .map(lambda v: squaredError(v[0], v[1]))\n",
    "                   .collect())\n",
    "\n",
    "norm = Normalize()\n",
    "clrs = cmap(np.asarray(norm(error)))[:,0:3]\n",
    "\n",
    "fig, ax = preparePlot(np.arange(0, 120, 20), np.arange(0, 120, 20))\n",
    "ax.set_xlim(15, 82), ax.set_ylim(-5, 105)\n",
    "plt.scatter(predictions, actual, s=14**2, c=clrs, edgecolors='#888888', alpha=0.75, linewidths=.5)\n",
    "ax.set_xlabel('Predicted'), ax.set_ylabel(r'Actual')\n",
    "pass"
   ]
  },
  {
   "cell_type": "markdown",
   "metadata": {},
   "source": [
    "## 9. Vary alpha and the number of iterations \n",
    "\n",
    " In the previous grid search, we set `alpha = 1` for all experiments.  Now let's see what happens when we vary `alpha`.  Specifically, try `1e-5` and `10` as values for `alpha` and also try training models for 500 iterations (as before) but also for 5 iterations. Evaluate all models on the validation set.  Note that if we set `alpha` too small the gradient descent will require a huge number of steps to converge to the solution, and if we use too large of an `alpha` it can cause numerical problems, like you'll see below for `alpha = 10`."
   ]
  },
  {
   "cell_type": "code",
   "execution_count": 40,
   "metadata": {},
   "outputs": [
    {
     "name": "stderr",
     "output_type": "stream",
     "text": [
      "/opt/spark-2.2.0-bin-hadoop2.7/python/pyspark/mllib/regression.py:281: UserWarning: Deprecated in 2.0.0. Use ml.regression.LinearRegression.\n",
      "  warnings.warn(\"Deprecated in 2.0.0. Use ml.regression.LinearRegression.\")\n"
     ]
    },
    {
     "name": "stdout",
     "output_type": "stream",
     "text": [
      "alpha = 1e-05, numIters = 500, RMSE = 57.488\n",
      "alpha = 1e-05, numIters = 5, RMSE = 57.488\n"
     ]
    },
    {
     "name": "stderr",
     "output_type": "stream",
     "text": [
      "/opt/spark-2.2.0-bin-hadoop2.7/python/pyspark/statcounter.py:83: RuntimeWarning: overflow encountered in double_scalars\n",
      "  self.m2 += other.m2 + (delta * delta * self.n * other.n) / (self.n + other.n)\n"
     ]
    },
    {
     "name": "stdout",
     "output_type": "stream",
     "text": [
      "alpha = 1e+01, numIters = 500, RMSE = 9998568542740355072223778751368350117464460902480099789685641437530696027686823661355294570310998736575249361239487283200.000\n",
      "alpha = 1e+01, numIters = 5, RMSE = 352324534.657\n"
     ]
    }
   ],
   "source": [
    "# TODO: Replace <FILL IN> with appropriate code\n",
    "reg = bestRegParam\n",
    "modelRMSEs = []\n",
    "\n",
    "for alpha in [1e-5, 10]:\n",
    "    for numIters in [500, 5]:\n",
    "        model = LinearRegressionWithSGD.train(train_rdd, numIters, alpha,\n",
    "                                              miniBatchFrac, regParam=reg,\n",
    "                                              regType='l2', intercept=True)\n",
    "        labelsAndPreds = val_rdd.map(lambda lp: (lp.label, model.predict(lp.features)))\n",
    "        rmseVal = calcRMSE(labelsAndPreds)\n",
    "        print( 'alpha = {0:.0e}, numIters = {1}, RMSE = {2:.3f}'.format(alpha, numIters, rmseVal) )\n",
    "        modelRMSEs.append(rmseVal)"
   ]
  },
  {
   "cell_type": "code",
   "execution_count": 41,
   "metadata": {},
   "outputs": [
    {
     "name": "stdout",
     "output_type": "stream",
     "text": [
      "1 test passed.\n"
     ]
    }
   ],
   "source": [
    "# TEST Vary alpha and the number of iterations (4e)\n",
    "expectedResults = sorted([57.487692757541318, 57.487692757541318, 352324534.65684682,])\n",
    "Test.assertTrue(np.allclose(sorted(modelRMSEs)[:3], expectedResults), 'incorrect value for modelRMSEs')"
   ]
  },
  {
   "cell_type": "markdown",
   "metadata": {},
   "source": [
    "# Part 3 : Machine learning with Spark ML\n",
    "\n",
    "Now, we will perform machine learning with Spark ML librairy, which works upon Spark SQL dataframes."
   ]
  },
  {
   "cell_type": "markdown",
   "metadata": {},
   "source": [
    "## 1. Create dataframe\n",
    "\n",
    "Using RDD `parsed_rdd_shift` from part 2, create a Spark SQL dataframe called `ml_df`.\n",
    "- Check that columns casting are all float or double.\n",
    "- Check that the label column is named 'year_release' and the features like (feature_0, feature_1, ..., feature_11).\n",
    "- Make sure to cache the dataframe in order to improve your following performs."
   ]
  },
  {
   "cell_type": "code",
   "execution_count": 42,
   "metadata": {},
   "outputs": [
    {
     "name": "stdout",
     "output_type": "stream",
     "text": [
      "root\n",
      " |-- year_release: double (nullable = true)\n",
      " |-- feature_0: double (nullable = true)\n",
      " |-- feature_1: double (nullable = true)\n",
      " |-- feature_2: double (nullable = true)\n",
      " |-- feature_3: double (nullable = true)\n",
      " |-- feature_4: double (nullable = true)\n",
      " |-- feature_5: double (nullable = true)\n",
      " |-- feature_6: double (nullable = true)\n",
      " |-- feature_7: double (nullable = true)\n",
      " |-- feature_8: double (nullable = true)\n",
      " |-- feature_9: double (nullable = true)\n",
      " |-- feature_10: double (nullable = true)\n",
      " |-- feature_11: double (nullable = true)\n",
      "\n",
      "+------------+--------------+--------------+--------------+--------------+--------------+--------------+--------------+--------------+--------------+--------------+-------------+--------------+\n",
      "|year_release|     feature_0|     feature_1|     feature_2|     feature_3|     feature_4|     feature_5|     feature_6|     feature_7|     feature_8|     feature_9|   feature_10|    feature_11|\n",
      "+------------+--------------+--------------+--------------+--------------+--------------+--------------+--------------+--------------+--------------+--------------+-------------+--------------+\n",
      "|        79.0|0.884123733793|0.610454259079|0.600498416968|0.474669212493|0.247232680947|0.357306088914|0.344136412234|0.339641227335|0.600858840135|0.425704689024|0.60491501652|0.419193351817|\n",
      "+------------+--------------+--------------+--------------+--------------+--------------+--------------+--------------+--------------+--------------+--------------+-------------+--------------+\n",
      "only showing top 1 row\n",
      "\n"
     ]
    }
   ],
   "source": [
    "# TODO: Replace <FILL IN> with appropriate code\n",
    "label = \"year_release\"\n",
    "features = [\"feature_%s\" % i for i in range(0, 12)]\n",
    "ml_df = sqlContext.createDataFrame(parsed_rdd_shift, schema = [label] + features).cache()\n",
    "ml_df.printSchema()\n",
    "ml_df.show(1)"
   ]
  },
  {
   "cell_type": "code",
   "execution_count": 43,
   "metadata": {},
   "outputs": [
    {
     "name": "stdout",
     "output_type": "stream",
     "text": [
      "1 test passed.\n",
      "1 test passed.\n",
      "1 test passed.\n"
     ]
    }
   ],
   "source": [
    "# TEST Create dataframe (3.1)\n",
    "Test.assertEquals(str(type(ml_df)), \"<class 'pyspark.sql.dataframe.DataFrame'>\", \"ml_df is not a Spark DataFrame.\")\n",
    "Test.assertEquals(ml_df.is_cached, True, \"dataframe has to be cached\")\n",
    "Test.assertEquals(ml_df.dtypes, [('year_release', 'double'), ('feature_0', 'double'), ('feature_1', 'double'), ('feature_2', 'double'), ('feature_3', 'double'), ('feature_4', 'double'), ('feature_5', 'double'), ('feature_6', 'double'), ('feature_7', 'double'), ('feature_8', 'double'), ('feature_9', 'double'), ('feature_10', 'double'), ('feature_11', 'double')], \"Dataframe schema is not correct.\")"
   ]
  },
  {
   "cell_type": "markdown",
   "metadata": {},
   "source": [
    "## 2. Train, validation, test Split \n",
    "\n",
    "Such as earlier, search for method `randomSplit` from `pyspark.sql` module and make a train-val-test split with associated proportions `[0.8, 0.1, 0.1]`. \n",
    "- Assign the training dataframe to variable train_df.\n",
    "- Assign the validation dataframe to variable val_df.\n",
    "- Assign the test dataframe to variable test_df.\n",
    "- Make sure to cache all these dataframes."
   ]
  },
  {
   "cell_type": "code",
   "execution_count": 44,
   "metadata": {
    "collapsed": true
   },
   "outputs": [],
   "source": [
    "# TODO: Replace <FILL IN> with appropriate code\n",
    "weights = [.8, .1, .1]\n",
    "seed = 60\n",
    "train_df, val_df, test_df = ml_df.randomSplit(weights=weights, seed=seed)\n",
    "train_df.cache() # cache the df\n",
    "val_df.cache() # cache the df\n",
    "test_df.cache() # cache the df\n",
    "n_train = train_df.count()\n",
    "n_val = val_df.count()\n",
    "n_test = test_df.count()"
   ]
  },
  {
   "cell_type": "code",
   "execution_count": 45,
   "metadata": {},
   "outputs": [
    {
     "name": "stdout",
     "output_type": "stream",
     "text": [
      "1 test passed.\n",
      "1 test passed.\n",
      "1 test passed.\n",
      "1 test passed.\n",
      "1 test passed.\n",
      "1 test passed.\n",
      "1 test passed.\n"
     ]
    }
   ],
   "source": [
    "# TEST Training, validation, and test sets (3.2)\n",
    "Test.assertTrue(n_train + n_val + n_test == 6724, 'unexpected Train, Val, Test data set size')\n",
    "Test.assertEquals(n_train, 5381, 'unexpected value for n_train')\n",
    "Test.assertEquals(n_val, 654, 'unexpected value for n_val')\n",
    "Test.assertEquals(n_test, 689, 'unexpected value for n_test')\n",
    "Test.assertEquals(train_df.is_cached, True, \"dataframe has to be cached\")\n",
    "Test.assertEquals(val_df.is_cached, True, \"dataframe has to be cached\")\n",
    "Test.assertEquals(test_df.is_cached, True, \"dataframe has to be cached\")"
   ]
  },
  {
   "cell_type": "markdown",
   "metadata": {},
   "source": [
    "## 3. Correlation matrix Plot\n",
    "\n",
    "Libraries MLlib and Spark ML provide multiple statistics tools such as some statistics tests or correlation matrixes. Let's plot the correlation matrix and detect which columns are correlated with the 'year release' label. \n",
    "- Wrap all the `ml_df` columns using a `VectorAssembler` object (See the doc).\n",
    "- After wrapping, compute the pearson correlation matrix and assign the result matrix to variable `pearsonCorr` (see the doc)."
   ]
  },
  {
   "cell_type": "code",
   "execution_count": 47,
   "metadata": {},
   "outputs": [],
   "source": [
    "# TODO: Replace <FILL IN> with appropriate code\n",
    "from pyspark.ml.stat import Correlation\n",
    "from pyspark.ml.feature import VectorAssembler\n",
    "all_cols_names = ml_df.columns\n",
    "vect_assembler = VectorAssembler(inputCols=all_cols_names, outputCol=\"all_cols\")\n",
    "all_cols = vect_assembler.transform(ml_df)\n",
    "pearsonCorr = Correlation.corr(all_cols, \"all_cols\", 'pearson').collect()[0][0].toArray()"
   ]
  },
  {
   "cell_type": "code",
   "execution_count": 48,
   "metadata": {},
   "outputs": [
    {
     "name": "stdout",
     "output_type": "stream",
     "text": [
      "1 test passed.\n",
      "1 test passed.\n"
     ]
    }
   ],
   "source": [
    "# TEST Training, validation, and test sets (3.3)\n",
    "Test.assertEquals(str(type(pearsonCorr)), \"<class 'numpy.ndarray'>\", \"pearsonCorr has to be type numpy ndarray. Don't forget to use method 'toArray()'.\")\n",
    "Test.assertEquals(pearsonCorr.shape, (13, 13), \"incorrect correlation matrix shape.\")"
   ]
  },
  {
   "cell_type": "code",
   "execution_count": 49,
   "metadata": {},
   "outputs": [
    {
     "data": {
      "image/png": "[encoded data removed]",
      "text/plain": [
       "<matplotlib.figure.Figure at 0x7fb7981d2a58>"
      ]
     },
     "metadata": {},
     "output_type": "display_data"
    }
   ],
   "source": [
    "# Plot your correlation matrix : \n",
    "fig = plt.figure(figsize=[12, 9])\n",
    "ax1 = fig.add_subplot(111)\n",
    "cmap = cm.get_cmap('jet')\n",
    "cax = ax1.imshow(pearsonCorr, interpolation=\"nearest\", cmap=cmap)\n",
    "ax1.grid(True)\n",
    "plt.title('Correlation Matrix')\n",
    "labels=all_cols_names\n",
    "ax1.set_xticks(range(0, len(labels)))\n",
    "ax1.set_yticks(range(0, len(labels)))\n",
    "ax1.set_xticklabels(labels,fontsize=6)\n",
    "ax1.set_yticklabels(labels,fontsize=6)\n",
    "fig.colorbar(cax, ticks=[-0.5, -0.25, 0.0, 0.25, 0.5, 0.75, 1])\n",
    "plt.show()"
   ]
  },
  {
   "cell_type": "markdown",
   "metadata": {},
   "source": [
    "## 4. Linear regression with Spark ML\n",
    "\n",
    "This time, we will use linear regression with Spark ML instead of Spark MLlib. To achieve this task, you will be asked to wrap the features into an unique colummn, train a linear regression, make predictions and finally evaluate your rmse scores using an evaluator. Feel free to refer to the [Spark Documentation](https://spark.apache.org/docs/latest/api/python/pyspark.ml.html) if needed.\n",
    "\n",
    "- Assign the list of all dataframe features columns names to variable `features_cols`.\n",
    "- Using a `VectorAssembler` object, wrap up all the features columns into a new column named 'all_features' (for train and test datasets). You have to set parameters `inputCols`and `outputCol`.\n",
    "- Using a `LinearRegression` object, train a machine learning model and use it to make prediction on test dataset. You have to set paramaters `featuresCol`, `labelCol` and `predictionCol`. Do not set any hypertuning parameter.\n",
    "- Use the model to make predictions on train, val and test dataset. Assign the resulting dataframe to variable `train_pred`, `val_pred` and `test_pred`.\n",
    "- Using a `RegressionEvaluator` object, compute the resulting RMSE scores. You have to set paramaters `predictionCol`, `labelCol` and `metricName`. "
   ]
  },
  {
   "cell_type": "code",
   "execution_count": 51,
   "metadata": {},
   "outputs": [
    {
     "name": "stdout",
     "output_type": "stream",
     "text": [
      "+------------+--------------+--------------+--------------+--------------+--------------+--------------+--------------+--------------+--------------+--------------+--------------+--------------+--------------------+------------------+\n",
      "|year_release|     feature_0|     feature_1|     feature_2|     feature_3|     feature_4|     feature_5|     feature_6|     feature_7|     feature_8|     feature_9|    feature_10|    feature_11|        all_features|        prediction|\n",
      "+------------+--------------+--------------+--------------+--------------+--------------+--------------+--------------+--------------+--------------+--------------+--------------+--------------+--------------------+------------------+\n",
      "|         8.0|0.169859883053|0.347163029706|0.310357993388|0.183068614542|0.319387467117|0.615347306265|0.234347964383|0.655487922947|0.312231493679|0.622081983507|0.365167752259|0.401388756294|[0.169859883053,0...|15.056205034278335|\n",
      "|        13.0| 0.35177989408|0.128614601093| 0.46187272899|0.441522053402|0.380549068551|0.467868521031|0.520278114736|0.743883799556|0.261380855203|0.486281934076|0.399280371883| 0.32625353766|[0.35177989408,0....| 34.41090768749106|\n",
      "|        36.0| 0.55438670845|0.432908885379|0.432811457202|0.667622901459|0.277444525543|0.498982857072|0.406428395144|0.232029287547|0.576921756654| 0.54150483147|0.717700715787|0.529644790238|[0.55438670845,0....|62.060076429947614|\n",
      "|        39.0|0.610948541868|0.499834492848|0.491659311659| 0.51989238429|0.314668556572|0.527874647237|0.528838535844|0.515161287938|0.525224405332|0.372033482778|0.471392384491|0.460455937378|[0.610948541868,0...| 53.79762055677792|\n",
      "|        39.0|0.646235183287|0.518296593062|0.516561992981|0.504214254548|0.332210537385|0.492425105821|0.480421499964|0.525594882601|0.535298429308| 0.42872236455|0.533459532464|0.486966062578|[0.646235183287,0...| 50.72961001214337|\n",
      "+------------+--------------+--------------+--------------+--------------+--------------+--------------+--------------+--------------+--------------+--------------+--------------+--------------+--------------------+------------------+\n",
      "only showing top 5 rows\n",
      "\n",
      ">>> Train RMSE Score : 15.526192193229237\n",
      ">>> Val RMSE Score : 16.301174053353634\n",
      ">>> Test RMSE Score : 15.317146176199529\n"
     ]
    }
   ],
   "source": [
    "# TODO: Replace <FILL IN> with appropriate code\n",
    "from pyspark.ml.regression import LinearRegression\n",
    "from pyspark.ml.evaluation import RegressionEvaluator\n",
    "\n",
    "# Wrap the features into a unique column\n",
    "features_cols = [col for col in train_df.columns if col != \"year_release\"]\n",
    "vect_assembler = VectorAssembler(inputCols=features_cols, outputCol='all_features')\n",
    "train_df_wrapped = vect_assembler.transform(train_df)\n",
    "val_df_wrapped = vect_assembler.transform(val_df)\n",
    "test_df_wrapped = vect_assembler.transform(test_df)\n",
    "\n",
    "# Train and predict :\n",
    "lr = LinearRegression(featuresCol=\"all_features\", labelCol=\"year_release\", predictionCol=\"prediction\")\n",
    "model = lr.fit(train_df_wrapped)\n",
    "train_pred = model.transform(train_df_wrapped)\n",
    "val_pred = model.transform(val_df_wrapped)\n",
    "test_pred = model.transform(test_df_wrapped)\n",
    "test_pred.show(5)\n",
    "\n",
    "# Evaluation : \n",
    "evaluator = RegressionEvaluator(predictionCol=\"prediction\", labelCol=\"year_release\", metricName=\"rmse\")\n",
    "rmse_train = evaluator.evaluate(train_pred)\n",
    "rmse_val = evaluator.evaluate(val_pred)\n",
    "rmse_test = evaluator.evaluate(test_pred)\n",
    "print(\">>> Train RMSE Score : %s\" % rmse_train)\n",
    "print(\">>> Val RMSE Score : %s\" % rmse_val)\n",
    "print(\">>> Test RMSE Score : %s\" % rmse_test)"
   ]
  },
  {
   "cell_type": "code",
   "execution_count": 53,
   "metadata": {},
   "outputs": [
    {
     "name": "stdout",
     "output_type": "stream",
     "text": [
      "1 test passed.\n",
      "1 test passed.\n",
      "1 test passed.\n",
      "1 test passed.\n",
      "1 test passed.\n",
      "1 test passed.\n",
      "1 test passed.\n",
      "1 test passed.\n"
     ]
    }
   ],
   "source": [
    "# TEST Linear Regression with Spark ML (3.4)\n",
    "Test.assertEquals(len(features_cols), 12, \"features_cols length has to be 12.\")\n",
    "Test.assertEquals(len(train_df_wrapped.columns), 14, \"Incorrect number of columns in train_df_wrapped.\")\n",
    "Test.assertEquals(len(train_df_wrapped.columns), 14, \"Incorrect number of columns in test_df_wrapped.\")\n",
    "Test.assertEquals(\"all_features\" in train_df_wrapped.columns, True, \"Column 'all_features' does not exist in wrapped train dataset.\")\n",
    "Test.assertEquals(\"all_features\" in test_df_wrapped.columns, True, \"Column 'all_features' does not exist in wrapped test dataset.\")\n",
    "Test.assertEquals(round(rmse_train, 2), 15.53, \"Incorrect train RMSE Score.\")\n",
    "Test.assertEquals(round(rmse_val, 2), 16.30, \"Incorrect val RMSE Score.\")\n",
    "Test.assertEquals(round(rmse_test, 2), 15.32, \"Incorrect test RMSE Score.\")"
   ]
  },
  {
   "cell_type": "markdown",
   "metadata": {},
   "source": [
    "## 5. Add interactions between features (Order 2)\n",
    "\n",
    "So far, we've used the features as they were provided.  Now, we will add features that capture the two-way interactions between our existing features. For every set of features `x` and `y`, we will compute feature `x * y` (including when column x = column y).\n",
    "\n",
    "To achieve this task, tou will have to :\n",
    "- Create a UDF based on `compute_product` function that takes two feature columns as input and return the product of the two columns. Make sure that the resulting column will be named such as `feature_i_x_j` with `i` and `j` the features numbers.\n",
    "- Apply the UDF on train, val and test datasets using loops and `withColumn` method.\n",
    "\n",
    "_Hint_ : If needed, refer to the UDF Spark documentation or classroom lecture 3.\n",
    "\n",
    "_Hint_ : Because there are 12 features in dataset, it is expected to add 78 new columns to dataset.\n",
    "\n",
    "_Note_ : This task can also be achieved without UDF. However, here is a good chance to practice with UDFs."
   ]
  },
  {
   "cell_type": "code",
   "execution_count": 55,
   "metadata": {},
   "outputs": [
    {
     "name": "stdout",
     "output_type": "stream",
     "text": [
      "root\n",
      " |-- year_release: double (nullable = true)\n",
      " |-- feature_0: double (nullable = true)\n",
      " |-- feature_1: double (nullable = true)\n",
      " |-- feature_2: double (nullable = true)\n",
      " |-- feature_3: double (nullable = true)\n",
      " |-- feature_4: double (nullable = true)\n",
      " |-- feature_5: double (nullable = true)\n",
      " |-- feature_6: double (nullable = true)\n",
      " |-- feature_7: double (nullable = true)\n",
      " |-- feature_8: double (nullable = true)\n",
      " |-- feature_9: double (nullable = true)\n",
      " |-- feature_10: double (nullable = true)\n",
      " |-- feature_11: double (nullable = true)\n",
      " |-- feature_0_x_0: double (nullable = true)\n",
      " |-- feature_0_x_1: double (nullable = true)\n",
      " |-- feature_0_x_2: double (nullable = true)\n",
      " |-- feature_0_x_3: double (nullable = true)\n",
      " |-- feature_0_x_4: double (nullable = true)\n",
      " |-- feature_0_x_5: double (nullable = true)\n",
      " |-- feature_0_x_6: double (nullable = true)\n",
      " |-- feature_0_x_7: double (nullable = true)\n",
      " |-- feature_0_x_8: double (nullable = true)\n",
      " |-- feature_0_x_9: double (nullable = true)\n",
      " |-- feature_0_x_10: double (nullable = true)\n",
      " |-- feature_0_x_11: double (nullable = true)\n",
      " |-- feature_1_x_1: double (nullable = true)\n",
      " |-- feature_1_x_2: double (nullable = true)\n",
      " |-- feature_1_x_3: double (nullable = true)\n",
      " |-- feature_1_x_4: double (nullable = true)\n",
      " |-- feature_1_x_5: double (nullable = true)\n",
      " |-- feature_1_x_6: double (nullable = true)\n",
      " |-- feature_1_x_7: double (nullable = true)\n",
      " |-- feature_1_x_8: double (nullable = true)\n",
      " |-- feature_1_x_9: double (nullable = true)\n",
      " |-- feature_1_x_10: double (nullable = true)\n",
      " |-- feature_1_x_11: double (nullable = true)\n",
      " |-- feature_2_x_2: double (nullable = true)\n",
      " |-- feature_2_x_3: double (nullable = true)\n",
      " |-- feature_2_x_4: double (nullable = true)\n",
      " |-- feature_2_x_5: double (nullable = true)\n",
      " |-- feature_2_x_6: double (nullable = true)\n",
      " |-- feature_2_x_7: double (nullable = true)\n",
      " |-- feature_2_x_8: double (nullable = true)\n",
      " |-- feature_2_x_9: double (nullable = true)\n",
      " |-- feature_2_x_10: double (nullable = true)\n",
      " |-- feature_2_x_11: double (nullable = true)\n",
      " |-- feature_3_x_3: double (nullable = true)\n",
      " |-- feature_3_x_4: double (nullable = true)\n",
      " |-- feature_3_x_5: double (nullable = true)\n",
      " |-- feature_3_x_6: double (nullable = true)\n",
      " |-- feature_3_x_7: double (nullable = true)\n",
      " |-- feature_3_x_8: double (nullable = true)\n",
      " |-- feature_3_x_9: double (nullable = true)\n",
      " |-- feature_3_x_10: double (nullable = true)\n",
      " |-- feature_3_x_11: double (nullable = true)\n",
      " |-- feature_4_x_4: double (nullable = true)\n",
      " |-- feature_4_x_5: double (nullable = true)\n",
      " |-- feature_4_x_6: double (nullable = true)\n",
      " |-- feature_4_x_7: double (nullable = true)\n",
      " |-- feature_4_x_8: double (nullable = true)\n",
      " |-- feature_4_x_9: double (nullable = true)\n",
      " |-- feature_4_x_10: double (nullable = true)\n",
      " |-- feature_4_x_11: double (nullable = true)\n",
      " |-- feature_5_x_5: double (nullable = true)\n",
      " |-- feature_5_x_6: double (nullable = true)\n",
      " |-- feature_5_x_7: double (nullable = true)\n",
      " |-- feature_5_x_8: double (nullable = true)\n",
      " |-- feature_5_x_9: double (nullable = true)\n",
      " |-- feature_5_x_10: double (nullable = true)\n",
      " |-- feature_5_x_11: double (nullable = true)\n",
      " |-- feature_6_x_6: double (nullable = true)\n",
      " |-- feature_6_x_7: double (nullable = true)\n",
      " |-- feature_6_x_8: double (nullable = true)\n",
      " |-- feature_6_x_9: double (nullable = true)\n",
      " |-- feature_6_x_10: double (nullable = true)\n",
      " |-- feature_6_x_11: double (nullable = true)\n",
      " |-- feature_7_x_7: double (nullable = true)\n",
      " |-- feature_7_x_8: double (nullable = true)\n",
      " |-- feature_7_x_9: double (nullable = true)\n",
      " |-- feature_7_x_10: double (nullable = true)\n",
      " |-- feature_7_x_11: double (nullable = true)\n",
      " |-- feature_8_x_8: double (nullable = true)\n",
      " |-- feature_8_x_9: double (nullable = true)\n",
      " |-- feature_8_x_10: double (nullable = true)\n",
      " |-- feature_8_x_11: double (nullable = true)\n",
      " |-- feature_9_x_9: double (nullable = true)\n",
      " |-- feature_9_x_10: double (nullable = true)\n",
      " |-- feature_9_x_11: double (nullable = true)\n",
      " |-- feature_10_x_10: double (nullable = true)\n",
      " |-- feature_10_x_11: double (nullable = true)\n",
      " |-- feature_11_x_11: double (nullable = true)\n",
      "\n"
     ]
    }
   ],
   "source": [
    "# TODO: Replace <FILL IN> with appropriate code\n",
    "from pyspark.sql.functions import udf\n",
    "from pyspark.sql.types import DoubleType\n",
    "\n",
    "# Design the UDF :\n",
    "def compute_product(x, y):\n",
    "    \"\"\"\n",
    "    Returns x * y\n",
    "    \"\"\"\n",
    "    return x * y\n",
    "\n",
    "my_udf = udf(lambda x, y: compute_product(x, y), DoubleType())\n",
    "\n",
    "# Apply the UDF on train and test datasets\n",
    "train_df_2 = train_df.persist().cache()\n",
    "val_df_2 = val_df.persist().cache()\n",
    "test_df_2 = test_df.persist().cache()\n",
    "features_cols = [col for col in train_df.columns if col != \"year_release\"]\n",
    "features_index = range(0, len(features_cols))\n",
    "\n",
    "for i in features_index:\n",
    "    for j in features_index:\n",
    "        if j < i:\n",
    "            pass\n",
    "        else:\n",
    "            train_df_2 = train_df_2.withColumn(\"feature_%s_x_%s\" % (i, j), my_udf(features_cols[i], features_cols[j]))\n",
    "            val_df_2 = val_df_2.withColumn(\"feature_%s_x_%s\" % (i, j), my_udf(features_cols[i], features_cols[j]))\n",
    "            test_df_2 = test_df_2.withColumn(\"feature_%s_x_%s\" % (i, j), my_udf(features_cols[i], features_cols[j]))\n",
    "            \n",
    "test_df_2.printSchema()"
   ]
  },
  {
   "cell_type": "code",
   "execution_count": 57,
   "metadata": {},
   "outputs": [
    {
     "name": "stdout",
     "output_type": "stream",
     "text": [
      "1 test passed.\n",
      "1 test passed.\n",
      "1 test passed.\n",
      "1 test passed.\n",
      "1 test passed.\n",
      "1 test passed.\n"
     ]
    }
   ],
   "source": [
    "# TEST Add two-way interactions (3.5)\n",
    "Test.assertEquals(len(train_df_2.columns), 91, \" Incorrect correct number of columns for train_df_2.\")\n",
    "Test.assertEquals(len(val_df_2.columns), 91, \" Incorrect correct number of columns for val_df_2.\")\n",
    "Test.assertEquals(len(test_df_2.columns), 91, \" Incorrect correct number of columns for test_df_2.\")\n",
    "Test.assertEquals(train_df_2.dtypes, [('year_release', 'double'), ('feature_0', 'double'), ('feature_1', 'double'), ('feature_2', 'double'), ('feature_3', 'double'), ('feature_4', 'double'), ('feature_5', 'double'), ('feature_6', 'double'), ('feature_7', 'double'), ('feature_8', 'double'), ('feature_9', 'double'), ('feature_10', 'double'), ('feature_11', 'double'), ('feature_0_x_0', 'double'), ('feature_0_x_1', 'double'), ('feature_0_x_2', 'double'), ('feature_0_x_3', 'double'), ('feature_0_x_4', 'double'), ('feature_0_x_5', 'double'), ('feature_0_x_6', 'double'), ('feature_0_x_7', 'double'), ('feature_0_x_8', 'double'), ('feature_0_x_9', 'double'), ('feature_0_x_10', 'double'), ('feature_0_x_11', 'double'), ('feature_1_x_1', 'double'), ('feature_1_x_2', 'double'), ('feature_1_x_3', 'double'), ('feature_1_x_4', 'double'), ('feature_1_x_5', 'double'), ('feature_1_x_6', 'double'), ('feature_1_x_7', 'double'), ('feature_1_x_8', 'double'), ('feature_1_x_9', 'double'), ('feature_1_x_10', 'double'), ('feature_1_x_11', 'double'), ('feature_2_x_2', 'double'), ('feature_2_x_3', 'double'), ('feature_2_x_4', 'double'), ('feature_2_x_5', 'double'), ('feature_2_x_6', 'double'), ('feature_2_x_7', 'double'), ('feature_2_x_8', 'double'), ('feature_2_x_9', 'double'), ('feature_2_x_10', 'double'), ('feature_2_x_11', 'double'), ('feature_3_x_3', 'double'), ('feature_3_x_4', 'double'), ('feature_3_x_5', 'double'), ('feature_3_x_6', 'double'), ('feature_3_x_7', 'double'), ('feature_3_x_8', 'double'), ('feature_3_x_9', 'double'), ('feature_3_x_10', 'double'), ('feature_3_x_11', 'double'), ('feature_4_x_4', 'double'), ('feature_4_x_5', 'double'), ('feature_4_x_6', 'double'), ('feature_4_x_7', 'double'), ('feature_4_x_8', 'double'), ('feature_4_x_9', 'double'), ('feature_4_x_10', 'double'), ('feature_4_x_11', 'double'), ('feature_5_x_5', 'double'), ('feature_5_x_6', 'double'), ('feature_5_x_7', 'double'), ('feature_5_x_8', 'double'), ('feature_5_x_9', 'double'), ('feature_5_x_10', 'double'), ('feature_5_x_11', 'double'), ('feature_6_x_6', 'double'), ('feature_6_x_7', 'double'), ('feature_6_x_8', 'double'), ('feature_6_x_9', 'double'), ('feature_6_x_10', 'double'), ('feature_6_x_11', 'double'), ('feature_7_x_7', 'double'), ('feature_7_x_8', 'double'), ('feature_7_x_9', 'double'), ('feature_7_x_10', 'double'), ('feature_7_x_11', 'double'), ('feature_8_x_8', 'double'), ('feature_8_x_9', 'double'), ('feature_8_x_10', 'double'), ('feature_8_x_11', 'double'), ('feature_9_x_9', 'double'), ('feature_9_x_10', 'double'), ('feature_9_x_11', 'double'), ('feature_10_x_10', 'double'), ('feature_10_x_11', 'double'), ('feature_11_x_11', 'double')], \"incorrect columns names or casting.\")\n",
    "Test.assertEquals(val_df_2.dtypes, [('year_release', 'double'), ('feature_0', 'double'), ('feature_1', 'double'), ('feature_2', 'double'), ('feature_3', 'double'), ('feature_4', 'double'), ('feature_5', 'double'), ('feature_6', 'double'), ('feature_7', 'double'), ('feature_8', 'double'), ('feature_9', 'double'), ('feature_10', 'double'), ('feature_11', 'double'), ('feature_0_x_0', 'double'), ('feature_0_x_1', 'double'), ('feature_0_x_2', 'double'), ('feature_0_x_3', 'double'), ('feature_0_x_4', 'double'), ('feature_0_x_5', 'double'), ('feature_0_x_6', 'double'), ('feature_0_x_7', 'double'), ('feature_0_x_8', 'double'), ('feature_0_x_9', 'double'), ('feature_0_x_10', 'double'), ('feature_0_x_11', 'double'), ('feature_1_x_1', 'double'), ('feature_1_x_2', 'double'), ('feature_1_x_3', 'double'), ('feature_1_x_4', 'double'), ('feature_1_x_5', 'double'), ('feature_1_x_6', 'double'), ('feature_1_x_7', 'double'), ('feature_1_x_8', 'double'), ('feature_1_x_9', 'double'), ('feature_1_x_10', 'double'), ('feature_1_x_11', 'double'), ('feature_2_x_2', 'double'), ('feature_2_x_3', 'double'), ('feature_2_x_4', 'double'), ('feature_2_x_5', 'double'), ('feature_2_x_6', 'double'), ('feature_2_x_7', 'double'), ('feature_2_x_8', 'double'), ('feature_2_x_9', 'double'), ('feature_2_x_10', 'double'), ('feature_2_x_11', 'double'), ('feature_3_x_3', 'double'), ('feature_3_x_4', 'double'), ('feature_3_x_5', 'double'), ('feature_3_x_6', 'double'), ('feature_3_x_7', 'double'), ('feature_3_x_8', 'double'), ('feature_3_x_9', 'double'), ('feature_3_x_10', 'double'), ('feature_3_x_11', 'double'), ('feature_4_x_4', 'double'), ('feature_4_x_5', 'double'), ('feature_4_x_6', 'double'), ('feature_4_x_7', 'double'), ('feature_4_x_8', 'double'), ('feature_4_x_9', 'double'), ('feature_4_x_10', 'double'), ('feature_4_x_11', 'double'), ('feature_5_x_5', 'double'), ('feature_5_x_6', 'double'), ('feature_5_x_7', 'double'), ('feature_5_x_8', 'double'), ('feature_5_x_9', 'double'), ('feature_5_x_10', 'double'), ('feature_5_x_11', 'double'), ('feature_6_x_6', 'double'), ('feature_6_x_7', 'double'), ('feature_6_x_8', 'double'), ('feature_6_x_9', 'double'), ('feature_6_x_10', 'double'), ('feature_6_x_11', 'double'), ('feature_7_x_7', 'double'), ('feature_7_x_8', 'double'), ('feature_7_x_9', 'double'), ('feature_7_x_10', 'double'), ('feature_7_x_11', 'double'), ('feature_8_x_8', 'double'), ('feature_8_x_9', 'double'), ('feature_8_x_10', 'double'), ('feature_8_x_11', 'double'), ('feature_9_x_9', 'double'), ('feature_9_x_10', 'double'), ('feature_9_x_11', 'double'), ('feature_10_x_10', 'double'), ('feature_10_x_11', 'double'), ('feature_11_x_11', 'double')], \"incorrect columns names or casting.\")\n",
    "Test.assertEquals(test_df_2.dtypes, [('year_release', 'double'), ('feature_0', 'double'), ('feature_1', 'double'), ('feature_2', 'double'), ('feature_3', 'double'), ('feature_4', 'double'), ('feature_5', 'double'), ('feature_6', 'double'), ('feature_7', 'double'), ('feature_8', 'double'), ('feature_9', 'double'), ('feature_10', 'double'), ('feature_11', 'double'), ('feature_0_x_0', 'double'), ('feature_0_x_1', 'double'), ('feature_0_x_2', 'double'), ('feature_0_x_3', 'double'), ('feature_0_x_4', 'double'), ('feature_0_x_5', 'double'), ('feature_0_x_6', 'double'), ('feature_0_x_7', 'double'), ('feature_0_x_8', 'double'), ('feature_0_x_9', 'double'), ('feature_0_x_10', 'double'), ('feature_0_x_11', 'double'), ('feature_1_x_1', 'double'), ('feature_1_x_2', 'double'), ('feature_1_x_3', 'double'), ('feature_1_x_4', 'double'), ('feature_1_x_5', 'double'), ('feature_1_x_6', 'double'), ('feature_1_x_7', 'double'), ('feature_1_x_8', 'double'), ('feature_1_x_9', 'double'), ('feature_1_x_10', 'double'), ('feature_1_x_11', 'double'), ('feature_2_x_2', 'double'), ('feature_2_x_3', 'double'), ('feature_2_x_4', 'double'), ('feature_2_x_5', 'double'), ('feature_2_x_6', 'double'), ('feature_2_x_7', 'double'), ('feature_2_x_8', 'double'), ('feature_2_x_9', 'double'), ('feature_2_x_10', 'double'), ('feature_2_x_11', 'double'), ('feature_3_x_3', 'double'), ('feature_3_x_4', 'double'), ('feature_3_x_5', 'double'), ('feature_3_x_6', 'double'), ('feature_3_x_7', 'double'), ('feature_3_x_8', 'double'), ('feature_3_x_9', 'double'), ('feature_3_x_10', 'double'), ('feature_3_x_11', 'double'), ('feature_4_x_4', 'double'), ('feature_4_x_5', 'double'), ('feature_4_x_6', 'double'), ('feature_4_x_7', 'double'), ('feature_4_x_8', 'double'), ('feature_4_x_9', 'double'), ('feature_4_x_10', 'double'), ('feature_4_x_11', 'double'), ('feature_5_x_5', 'double'), ('feature_5_x_6', 'double'), ('feature_5_x_7', 'double'), ('feature_5_x_8', 'double'), ('feature_5_x_9', 'double'), ('feature_5_x_10', 'double'), ('feature_5_x_11', 'double'), ('feature_6_x_6', 'double'), ('feature_6_x_7', 'double'), ('feature_6_x_8', 'double'), ('feature_6_x_9', 'double'), ('feature_6_x_10', 'double'), ('feature_6_x_11', 'double'), ('feature_7_x_7', 'double'), ('feature_7_x_8', 'double'), ('feature_7_x_9', 'double'), ('feature_7_x_10', 'double'), ('feature_7_x_11', 'double'), ('feature_8_x_8', 'double'), ('feature_8_x_9', 'double'), ('feature_8_x_10', 'double'), ('feature_8_x_11', 'double'), ('feature_9_x_9', 'double'), ('feature_9_x_10', 'double'), ('feature_9_x_11', 'double'), ('feature_10_x_10', 'double'), ('feature_10_x_11', 'double'), ('feature_11_x_11', 'double')], \"incorrect columns names or casting.\")"
   ]
  },
  {
   "cell_type": "markdown",
   "metadata": {},
   "source": [
    "## 6. Linear regression model with features interactions (order 2)\n",
    "\n",
    "Using the previously computed new 78 columns, we are now able to catch interaction between variable in order to build a more robust linear regression model. As for task 3.4, train this new machine learning algorithm and compute the new RMSE score."
   ]
  },
  {
   "cell_type": "code",
   "execution_count": 58,
   "metadata": {},
   "outputs": [
    {
     "name": "stdout",
     "output_type": "stream",
     "text": [
      ">>> Train RMSE Score : 14.497461072134962\n",
      ">>> Val RMSE Score : 15.340974402808373\n",
      ">>> Test RMSE Score : 14.520085102758697\n"
     ]
    }
   ],
   "source": [
    "# TODO: Replace <FILL IN> with appropriate code\n",
    "from pyspark.ml.regression import LinearRegression\n",
    "from pyspark.ml.evaluation import RegressionEvaluator\n",
    "\n",
    "# Wrap the features into a unique column\n",
    "features_cols = [col for col in train_df_2.columns if col != \"year_release\"]\n",
    "vect_assembler = VectorAssembler(inputCols=features_cols, outputCol='all_features')\n",
    "train_df_wrapped = vect_assembler.transform(train_df_2)\n",
    "val_df_wrapped = vect_assembler.transform(val_df_2)\n",
    "test_df_wrapped = vect_assembler.transform(test_df_2)\n",
    "\n",
    "# Train and predict :\n",
    "lr = LinearRegression(featuresCol=\"all_features\", labelCol=\"year_release\", predictionCol=\"prediction\")\n",
    "model = lr.fit(train_df_wrapped)\n",
    "train_pred = model.transform(train_df_wrapped)\n",
    "val_pred = model.transform(val_df_wrapped)\n",
    "test_pred = model.transform(test_df_wrapped)\n",
    "\n",
    "# Evaluation : \n",
    "evaluator = RegressionEvaluator(predictionCol=\"prediction\", labelCol=\"year_release\", metricName=\"rmse\")\n",
    "rmse_train = evaluator.evaluate(train_pred)\n",
    "rmse_val = evaluator.evaluate(val_pred)\n",
    "rmse_test = evaluator.evaluate(test_pred)\n",
    "print(\">>> Train RMSE Score : %s\" % rmse_train)\n",
    "print(\">>> Val RMSE Score : %s\" % rmse_val)\n",
    "print(\">>> Test RMSE Score : %s\" % rmse_test)"
   ]
  },
  {
   "cell_type": "code",
   "execution_count": null,
   "metadata": {},
   "outputs": [],
   "source": [
    "# TEST New Linear Regression with features interactions (3.6)\n",
    "Test.assertEquals(len(features_cols), 90, \"features_cols length has to be 12.\")\n",
    "Test.assertEquals(len(train_df_wrapped.columns), 92, \"Incorrect number of columns in train_df_wrapped.\")\n",
    "Test.assertEquals(len(val_df_wrapped.columns), 92, \"Incorrect number of columns in test_df_wrapped.\")\n",
    "Test.assertEquals(len(test_df_wrapped.columns), 92, \"Incorrect number of columns in test_df_wrapped.\")\n",
    "Test.assertEquals(\"all_features\" in train_df_wrapped.columns, True, \"Column 'all_features' does not exist in wrapped train dataset.\")\n",
    "Test.assertEquals(\"all_features\" in test_df_wrapped.columns, True, \"Column 'all_features' does not exist in wrapped test dataset.\")\n",
    "Test.assertEquals(round(rmse_train, 2), 14.50, \"Incorrect train RMSE Score.\")\n",
    "Test.assertEquals(round(rmse_val, 2), 15.34, \"Incorrect val RMSE Score.\")\n",
    "Test.assertEquals(round(rmse_test, 2), 14.52, \"Incorrect test RMSE Score.\")"
   ]
  },
  {
   "cell_type": "markdown",
   "metadata": {},
   "source": [
    "## 7. An example of extensive hypertuning cross-validator\n",
    "\n",
    "Here, we build a simple a simple example of a grid cross-validator in order to find the best regularization hyperparameters (`regParam` and `elasticNetParam`) for our regression model. According to our previous rmse scores on train, val and test datasets (which are very close to each other),  it seems that our linear model is currently under-fitting. Thus, the regularization tuning will not necessarily result in an improvement on test dataset. However, in the following part 4, you will interest in features interaction with order 3 or tree-based machine learning algorithms. In these cases, hypertuning cross-validator would be really helpful.\n",
    "\n",
    "_Note_ : Don't forget to cache your datasets in memory."
   ]
  },
  {
   "cell_type": "code",
   "execution_count": 59,
   "metadata": {},
   "outputs": [
    {
     "name": "stdout",
     "output_type": "stream",
     "text": [
      ">>> Train RMSE Score : 14.601151669420341\n",
      ">>> Test RMSE Score : 14.561761925765026\n",
      "\n",
      "===== Hypertuning cross validation results : =====\n",
      "\n",
      "Model 0 :\n",
      "Params : [('regParam', 0.0), ('elasticNetParam', 0.0), ('featuresCol', 'all_features'), ('labelCol', 'year_release'), ('predictionCol', 'prediction')]\n",
      "Average validation score : 14.917525406301166\n",
      "\n",
      "Model 1 :\n",
      "Params : [('regParam', 0.001), ('elasticNetParam', 0.0), ('featuresCol', 'all_features'), ('labelCol', 'year_release'), ('predictionCol', 'prediction')]\n",
      "Average validation score : 14.895767385253773\n",
      "\n",
      "Model 2 :\n",
      "Params : [('regParam', 0.01), ('elasticNetParam', 0.0), ('featuresCol', 'all_features'), ('labelCol', 'year_release'), ('predictionCol', 'prediction')]\n",
      "Average validation score : 14.89570821460864\n",
      "\n",
      "Model 3 :\n",
      "Params : [('regParam', 1.0), ('elasticNetParam', 0.0), ('featuresCol', 'all_features'), ('labelCol', 'year_release'), ('predictionCol', 'prediction')]\n",
      "Average validation score : 15.278512799821515\n",
      "\n",
      "Model 4 :\n",
      "Params : [('regParam', 0.0), ('elasticNetParam', 0.35), ('featuresCol', 'all_features'), ('labelCol', 'year_release'), ('predictionCol', 'prediction')]\n",
      "Average validation score : 14.91752540630324\n",
      "\n",
      "Model 5 :\n",
      "Params : [('regParam', 0.001), ('elasticNetParam', 0.35), ('featuresCol', 'all_features'), ('labelCol', 'year_release'), ('predictionCol', 'prediction')]\n",
      "Average validation score : 15.129387475772862\n",
      "\n",
      "Model 6 :\n",
      "Params : [('regParam', 0.01), ('elasticNetParam', 0.35), ('featuresCol', 'all_features'), ('labelCol', 'year_release'), ('predictionCol', 'prediction')]\n",
      "Average validation score : 15.128303448854687\n",
      "\n",
      "Model 7 :\n",
      "Params : [('regParam', 1.0), ('elasticNetParam', 0.35), ('featuresCol', 'all_features'), ('labelCol', 'year_release'), ('predictionCol', 'prediction')]\n",
      "Average validation score : 15.608945634152803\n",
      "\n",
      "Model 8 :\n",
      "Params : [('regParam', 0.0), ('elasticNetParam', 0.65), ('featuresCol', 'all_features'), ('labelCol', 'year_release'), ('predictionCol', 'prediction')]\n",
      "Average validation score : 14.917525406304161\n",
      "\n",
      "Model 9 :\n",
      "Params : [('regParam', 0.001), ('elasticNetParam', 0.65), ('featuresCol', 'all_features'), ('labelCol', 'year_release'), ('predictionCol', 'prediction')]\n",
      "Average validation score : 15.108136562109769\n",
      "\n",
      "Model 10 :\n",
      "Params : [('regParam', 0.01), ('elasticNetParam', 0.65), ('featuresCol', 'all_features'), ('labelCol', 'year_release'), ('predictionCol', 'prediction')]\n",
      "Average validation score : 15.146354070739331\n",
      "\n",
      "Model 11 :\n",
      "Params : [('regParam', 1.0), ('elasticNetParam', 0.65), ('featuresCol', 'all_features'), ('labelCol', 'year_release'), ('predictionCol', 'prediction')]\n",
      "Average validation score : 15.693839285110204\n",
      "\n",
      "Model 12 :\n",
      "Params : [('regParam', 0.0), ('elasticNetParam', 1.0), ('featuresCol', 'all_features'), ('labelCol', 'year_release'), ('predictionCol', 'prediction')]\n",
      "Average validation score : 14.917525406300655\n",
      "\n",
      "Model 13 :\n",
      "Params : [('regParam', 0.001), ('elasticNetParam', 1.0), ('featuresCol', 'all_features'), ('labelCol', 'year_release'), ('predictionCol', 'prediction')]\n",
      "Average validation score : 15.111548845601753\n",
      "\n",
      "Model 14 :\n",
      "Params : [('regParam', 0.01), ('elasticNetParam', 1.0), ('featuresCol', 'all_features'), ('labelCol', 'year_release'), ('predictionCol', 'prediction')]\n",
      "Average validation score : 15.134186795244943\n",
      "\n",
      "Model 15 :\n",
      "Params : [('regParam', 1.0), ('elasticNetParam', 1.0), ('featuresCol', 'all_features'), ('labelCol', 'year_release'), ('predictionCol', 'prediction')]\n",
      "Average validation score : 15.815591476860362\n"
     ]
    }
   ],
   "source": [
    "from pyspark.ml.tuning import ParamGridBuilder, CrossValidator\n",
    "\n",
    "# Preprocessing the Datasets\n",
    "train_val_df_2 = train_df_2.union(val_df_2).cache()\n",
    "features_cols = [col for col in train_val_df_2.columns if col != \"year_release\"]\n",
    "vect_assembler = VectorAssembler(inputCols=features_cols, outputCol='all_features')\n",
    "train_df_wrapped = vect_assembler.transform(train_val_df_2)\n",
    "test_df_wrapped = vect_assembler.transform(test_df_2)\n",
    "\n",
    "# Define the Grid\n",
    "lr = LinearRegression()\n",
    "grid = ParamGridBuilder().baseOn({lr.labelCol: 'year_release'}) \\\n",
    "        .baseOn({lr.featuresCol: \"all_features\"}) \\\n",
    "        .baseOn({lr.predictionCol: 'prediction'}) \\\n",
    "        .addGrid(lr.elasticNetParam, [0.0, 0.35, 0.65, 1.0]) \\\n",
    "        .addGrid(lr.regParam, [0.0, 0.001, 0.01, 1.0]) \\\n",
    "        .build()\n",
    "        \n",
    "\n",
    "evaluator = RegressionEvaluator(predictionCol=\"prediction\", labelCol=\"year_release\", metricName=\"rmse\")\n",
    "cv = CrossValidator(estimator=lr, estimatorParamMaps=grid, evaluator=evaluator, numFolds=5) # use 3+ folds in practice\n",
    "\n",
    "# Run cross-validation, and choose the best set of parameters.\n",
    "cvModel = cv.fit(train_df_wrapped.cache())\n",
    "\n",
    "# Make predictions on test dataset. cvModel uses the best model found.\n",
    "rmse_train = evaluator.evaluate(cvModel.transform(train_df_wrapped))\n",
    "rmse_test = evaluator.evaluate(cvModel.transform(test_df_wrapped))\n",
    "print(\">>> Train RMSE Score : %s\" % rmse_train)\n",
    "print(\">>> Test RMSE Score : %s\" % rmse_test)\n",
    "\n",
    "# Info display\n",
    "print(\"\\n===== Hypertuning cross validation results : =====\")\n",
    "for model_params, score in zip(cvModel.getEstimatorParamMaps(), cvModel.avgMetrics):\n",
    "    print(\"\\nModel %s :\" % cvModel.getEstimatorParamMaps().index(model_params))\n",
    "    print(\"Params : %s\" % str([(key.name, model_params[key]) for key in model_params.keys()]))\n",
    "    print(\"Average validation score : %s\" % score)"
   ]
  },
  {
   "cell_type": "code",
   "execution_count": 79,
   "metadata": {},
   "outputs": [
    {
     "data": {
      "text/plain": [
       "[]"
      ]
     },
     "execution_count": 79,
     "metadata": {},
     "output_type": "execute_result"
    }
   ],
   "source": [
    "cvModel."
   ]
  },
  {
   "cell_type": "markdown",
   "metadata": {},
   "source": [
    "# Part 4 : Beat the benchmark\n",
    "\n",
    "So far we have tried multiple linear regression models with both Spark MLLib and Spark ML. Our best model reaches a test RMSE score about `14.55`. Let us now use more powerful models such as tree-based ones ! Can you beat the benchmark `14.25`?\n",
    "\n",
    "Some ideas :\n",
    "- You can try one or several algorithms including `DecisionTreeRegressor`, `RandomForestRegressor`,  `GBTRegressor`(gradient boosting). See the pyspark.ml documentation for more information on algorithms settings [PySpark ML Documentation](https://spark.apache.org/docs/latest/api/python/pyspark.ml.html)\n",
    "- You can also try hypertuning cross-validator in order to reach the best test score.\n",
    "\n",
    "Notes :\n",
    "- Because tree-based technics are non-linear algorithms, you should use the original dataframes with 12 features. Using `train_df_2` will massively increase computing time with a increased risk of overfitting.\n",
    "- For `RandomForestRegressor` and  `GBTRegressor`, be careful with the number of trees. Because you are running algorithm in a Spark local environment, you don't have a lot of computing resources.\n",
    "- Make sure to cache your dataframes for better performances.\n",
    "- Hypertuning cross-validator is weel suited for decision tree but not for `RandomForest` and `GBT`. Because you are running algorithm in a Spark local environment, you don't have enough computing resources to afford heavy grid search."
   ]
  },
  {
   "cell_type": "markdown",
   "metadata": {},
   "source": [
    "## 1. Tree Based Technics"
   ]
  },
  {
   "cell_type": "code",
   "execution_count": 80,
   "metadata": {},
   "outputs": [
    {
     "name": "stdout",
     "output_type": "stream",
     "text": [
      "+------------+--------------+--------------+--------------+--------------+--------------+--------------+--------------+--------------+--------------+--------------+--------------+--------------+--------------------+------------------+\n",
      "|year_release|     feature_0|     feature_1|     feature_2|     feature_3|     feature_4|     feature_5|     feature_6|     feature_7|     feature_8|     feature_9|    feature_10|    feature_11|        all_features|        prediction|\n",
      "+------------+--------------+--------------+--------------+--------------+--------------+--------------+--------------+--------------+--------------+--------------+--------------+--------------+--------------------+------------------+\n",
      "|         8.0|0.169859883053|0.347163029706|0.310357993388|0.183068614542|0.319387467117|0.615347306265|0.234347964383|0.655487922947|0.312231493679|0.622081983507|0.365167752259|0.401388756294|[0.169859883053,0...|             18.99|\n",
      "|        13.0| 0.35177989408|0.128614601093| 0.46187272899|0.441522053402|0.380549068551|0.467868521031|0.520278114736|0.743883799556|0.261380855203|0.486281934076|0.399280371883| 0.32625353766|[0.35177989408,0....|            25.235|\n",
      "|        36.0| 0.55438670845|0.432908885379|0.432811457202|0.667622901459|0.277444525543|0.498982857072|0.406428395144|0.232029287547|0.576921756654| 0.54150483147|0.717700715787|0.529644790238|[0.55438670845,0....| 56.57197950089127|\n",
      "|        39.0|0.610948541868|0.499834492848|0.491659311659| 0.51989238429|0.314668556572|0.527874647237|0.528838535844|0.515161287938|0.525224405332|0.372033482778|0.471392384491|0.460455937378|[0.610948541868,0...| 46.35970013039698|\n",
      "|        39.0|0.646235183287|0.518296593062|0.516561992981|0.504214254548|0.332210537385|0.492425105821|0.480421499964|0.525594882601|0.535298429308| 0.42872236455|0.533459532464|0.486966062578|[0.646235183287,0...|48.632733891325806|\n",
      "+------------+--------------+--------------+--------------+--------------+--------------+--------------+--------------+--------------+--------------+--------------+--------------+--------------+--------------------+------------------+\n",
      "only showing top 5 rows\n",
      "\n",
      ">>> Train RMSE Score : 5.812804550185616\n",
      ">>> Val RMSE Score : 14.55901387269905\n",
      ">>> Test RMSE Score : 14.288747223184128\n"
     ]
    }
   ],
   "source": [
    "# TODO: Replace <FILL IN> with appropriate code\n",
    "from pyspark.ml.regression import LinearRegression, DecisionTreeRegressor, RandomForestRegressor, GBTRegressor\n",
    "from pyspark.ml.evaluation import RegressionEvaluator\n",
    "\n",
    "# Wrap the features into a unique column\n",
    "features_cols = [col for col in train_df.columns if col != \"year_release\"]\n",
    "vect_assembler = VectorAssembler(inputCols=features_cols, outputCol='all_features')\n",
    "train_df_wrapped = vect_assembler.transform(train_df).cache()\n",
    "val_df_wrapped = vect_assembler.transform(val_df).cache()\n",
    "test_df_wrapped = vect_assembler.transform(test_df).cache()\n",
    "\n",
    "# Train and predict :\n",
    "lr = RandomForestRegressor(featuresCol=\"all_features\", labelCol=\"year_release\", predictionCol=\"prediction\", \\\n",
    "                           maxDepth=17, numTrees=100, minInstancesPerNode=1)\n",
    "model = lr.fit(train_df_wrapped)\n",
    "train_pred = model.transform(train_df_wrapped)\n",
    "val_pred = model.transform(val_df_wrapped)\n",
    "test_pred = model.transform(test_df_wrapped)\n",
    "test_pred.show(5)\n",
    "\n",
    "# Evaluation : \n",
    "evaluator = RegressionEvaluator(predictionCol=\"prediction\", labelCol=\"year_release\", metricName=\"rmse\")\n",
    "rmse_train = evaluator.evaluate(train_pred)\n",
    "rmse_val = evaluator.evaluate(val_pred)\n",
    "rmse_test = evaluator.evaluate(test_pred)\n",
    "print(\">>> Train RMSE Score : %s\" % rmse_train)\n",
    "print(\">>> Val RMSE Score : %s\" % rmse_val)\n",
    "print(\">>> Test RMSE Score : %s\" % rmse_test)"
   ]
  },
  {
   "cell_type": "markdown",
   "metadata": {},
   "source": [
    "## 2. Visualize your results"
   ]
  },
  {
   "cell_type": "code",
   "execution_count": null,
   "metadata": {},
   "outputs": [],
   "source": [
    "import numpy as np\n",
    "predictions = [float(p[0]) for p in test_pred.select(\"prediction\").collect()]\n",
    "actual = [float(a[0]) for a in test_pred.select(\"year_release\").collect()]\n",
    "error = [p - a for p, a in zip(predictions, actual)]\n",
    "\n",
    "norm = Normalize()\n",
    "clrs = cmap(np.asarray(norm(error)))[:,0:3]\n",
    "\n",
    "fig, ax = preparePlot(np.arange(0, 120, 20), np.arange(0, 120, 20))\n",
    "ax.set_xlim(15, 82), ax.set_ylim(-5, 105)\n",
    "plt.scatter(predictions, actual, s=14**2, c=clrs, edgecolors='#888888', alpha=0.75, linewidths=.5)\n",
    "plt.plot(np.linspace(0, 100, 20), np.linspace(0, 100, 20), color=\"g\")\n",
    "ax.set_xlabel('Predicted'), ax.set_ylabel(r'Actual')\n",
    "plt.show()"
   ]
  }
 ],
 "metadata": {
  "anaconda-cloud": {},
  "kernelspec": {
   "display_name": "Python 3",
   "language": "python",
   "name": "python3"
  },
  "language_info": {
   "codemirror_mode": {
    "name": "ipython",
    "version": 3
   },
   "file_extension": ".py",
   "mimetype": "text/x-python",
   "name": "python",
   "nbconvert_exporter": "python",
   "pygments_lexer": "ipython3",
   "version": "3.6.6"
  },
  "latex_envs": {
   "LaTeX_envs_menu_present": true,
   "autocomplete": true,
   "bibliofile": "bibliography.bib",
   "cite_by": "apalike",
   "current_citInitial": 1,
   "eqLabelWithNumbers": true,
   "eqNumInitial": 0,
   "hotkeys": {
    "equation": "ctrl-e"
   },
   "labels_anchors": false,
   "latex_user_defs": false,
   "report_style_numbering": false,
   "user_envs_cfg": false
  },
  "nav_menu": {},
  "toc": {
   "nav_menu": {},
   "number_sections": true,
   "sideBar": true,
   "skip_h1_title": false,
   "toc_cell": false,
   "toc_position": {},
   "toc_section_display": "block",
   "toc_window_display": false
  },
  "varInspector": {
   "cols": {
    "lenName": 16,
    "lenType": 16,
    "lenVar": 40
   },
   "kernels_config": {
    "python": {
     "delete_cmd_postfix": "",
     "delete_cmd_prefix": "del ",
     "library": "var_list.py",
     "varRefreshCmd": "print(var_dic_list())"
    },
    "r": {
     "delete_cmd_postfix": ") ",
     "delete_cmd_prefix": "rm(",
     "library": "var_list.r",
     "varRefreshCmd": "cat(var_dic_list()) "
    }
   },
   "types_to_exclude": [
    "module",
    "function",
    "builtin_function_or_method",
    "instance",
    "_Feature"
   ],
   "window_display": false
  }
 },
 "nbformat": 4,
 "nbformat_minor": 1
}
